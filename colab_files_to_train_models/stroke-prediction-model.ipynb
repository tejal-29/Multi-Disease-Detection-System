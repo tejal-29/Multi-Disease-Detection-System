{
 "cells": [
  {
   "cell_type": "code",
   "execution_count": 56,
   "id": "fa12a9ee",
   "metadata": {
    "execution": {
     "iopub.execute_input": "2024-05-01T14:14:05.565920Z",
     "iopub.status.busy": "2024-05-01T14:14:05.565251Z",
     "iopub.status.idle": "2024-05-01T14:14:07.438529Z",
     "shell.execute_reply": "2024-05-01T14:14:07.437408Z"
    },
    "papermill": {
     "duration": 1.910254,
     "end_time": "2024-05-01T14:14:07.440566",
     "exception": false,
     "start_time": "2024-05-01T14:14:05.530312",
     "status": "completed"
    },
    "tags": []
   },
   "outputs": [],
   "source": [
    "# This Python 3 environment comes with many helpful analytics libraries installed\n",
    "# It is defined by the kaggle/python Docker image: https://github.com/kaggle/docker-python\n",
    "# For example, here's several helpful packages to load\n",
    "\n",
    "import numpy as np # linear algebra\n",
    "import pandas as pd # data processing, CSV file I/O (e.g. pd.read_csv)\n",
    "import matplotlib.pyplot as plt\n",
    "import seaborn as sns\n",
    "\n",
    "# Input data files are available in the read-only \"../input/\" directory\n",
    "# For example, running this (by clicking run or pressing Shift+Enter) will list all files under the input directory\n",
    "\n",
    "import os\n",
    "for dirname, _, filenames in os.walk('/kaggle/input'):\n",
    "    for filename in filenames:\n",
    "        print(os.path.join(dirname, filename))\n",
    "\n",
    "# You can write up to 20GB to the current directory (/kaggle/working/) that gets preserved as output when you create a version using \"Save & Run All\" \n",
    "# You can also write temporary files to /kaggle/temp/, but they won't be saved outside of the current session"
   ]
  },
  {
   "cell_type": "code",
   "execution_count": 57,
   "id": "43e0f471",
   "metadata": {
    "execution": {
     "iopub.execute_input": "2024-05-01T14:14:07.499309Z",
     "iopub.status.busy": "2024-05-01T14:14:07.498843Z",
     "iopub.status.idle": "2024-05-01T14:14:07.536504Z",
     "shell.execute_reply": "2024-05-01T14:14:07.535506Z"
    },
    "papermill": {
     "duration": 0.070008,
     "end_time": "2024-05-01T14:14:07.538937",
     "exception": false,
     "start_time": "2024-05-01T14:14:07.468929",
     "status": "completed"
    },
    "tags": []
   },
   "outputs": [],
   "source": [
    "# read the data\n",
    "df = pd.read_csv(r\"C:\\Users\\prati\\Downloads\\archive (11)\\healthcare-dataset-stroke-data.csv\")"
   ]
  },
  {
   "cell_type": "code",
   "execution_count": 58,
   "id": "91d05f26",
   "metadata": {
    "execution": {
     "iopub.execute_input": "2024-05-01T14:14:07.600589Z",
     "iopub.status.busy": "2024-05-01T14:14:07.600170Z",
     "iopub.status.idle": "2024-05-01T14:14:07.624053Z",
     "shell.execute_reply": "2024-05-01T14:14:07.623334Z"
    },
    "papermill": {
     "duration": 0.056451,
     "end_time": "2024-05-01T14:14:07.626075",
     "exception": false,
     "start_time": "2024-05-01T14:14:07.569624",
     "status": "completed"
    },
    "tags": []
   },
   "outputs": [
    {
     "data": {
      "text/html": [
       "<div>\n",
       "<style scoped>\n",
       "    .dataframe tbody tr th:only-of-type {\n",
       "        vertical-align: middle;\n",
       "    }\n",
       "\n",
       "    .dataframe tbody tr th {\n",
       "        vertical-align: top;\n",
       "    }\n",
       "\n",
       "    .dataframe thead th {\n",
       "        text-align: right;\n",
       "    }\n",
       "</style>\n",
       "<table border=\"1\" class=\"dataframe\">\n",
       "  <thead>\n",
       "    <tr style=\"text-align: right;\">\n",
       "      <th></th>\n",
       "      <th>id</th>\n",
       "      <th>gender</th>\n",
       "      <th>age</th>\n",
       "      <th>hypertension</th>\n",
       "      <th>heart_disease</th>\n",
       "      <th>ever_married</th>\n",
       "      <th>work_type</th>\n",
       "      <th>Residence_type</th>\n",
       "      <th>avg_glucose_level</th>\n",
       "      <th>bmi</th>\n",
       "      <th>smoking_status</th>\n",
       "      <th>stroke</th>\n",
       "    </tr>\n",
       "  </thead>\n",
       "  <tbody>\n",
       "    <tr>\n",
       "      <th>0</th>\n",
       "      <td>9046</td>\n",
       "      <td>Male</td>\n",
       "      <td>67.0</td>\n",
       "      <td>0</td>\n",
       "      <td>1</td>\n",
       "      <td>Yes</td>\n",
       "      <td>Private</td>\n",
       "      <td>Urban</td>\n",
       "      <td>228.69</td>\n",
       "      <td>36.6</td>\n",
       "      <td>formerly smoked</td>\n",
       "      <td>1</td>\n",
       "    </tr>\n",
       "    <tr>\n",
       "      <th>1</th>\n",
       "      <td>51676</td>\n",
       "      <td>Female</td>\n",
       "      <td>61.0</td>\n",
       "      <td>0</td>\n",
       "      <td>0</td>\n",
       "      <td>Yes</td>\n",
       "      <td>Self-employed</td>\n",
       "      <td>Rural</td>\n",
       "      <td>202.21</td>\n",
       "      <td>NaN</td>\n",
       "      <td>never smoked</td>\n",
       "      <td>1</td>\n",
       "    </tr>\n",
       "    <tr>\n",
       "      <th>2</th>\n",
       "      <td>31112</td>\n",
       "      <td>Male</td>\n",
       "      <td>80.0</td>\n",
       "      <td>0</td>\n",
       "      <td>1</td>\n",
       "      <td>Yes</td>\n",
       "      <td>Private</td>\n",
       "      <td>Rural</td>\n",
       "      <td>105.92</td>\n",
       "      <td>32.5</td>\n",
       "      <td>never smoked</td>\n",
       "      <td>1</td>\n",
       "    </tr>\n",
       "    <tr>\n",
       "      <th>3</th>\n",
       "      <td>60182</td>\n",
       "      <td>Female</td>\n",
       "      <td>49.0</td>\n",
       "      <td>0</td>\n",
       "      <td>0</td>\n",
       "      <td>Yes</td>\n",
       "      <td>Private</td>\n",
       "      <td>Urban</td>\n",
       "      <td>171.23</td>\n",
       "      <td>34.4</td>\n",
       "      <td>smokes</td>\n",
       "      <td>1</td>\n",
       "    </tr>\n",
       "    <tr>\n",
       "      <th>4</th>\n",
       "      <td>1665</td>\n",
       "      <td>Female</td>\n",
       "      <td>79.0</td>\n",
       "      <td>1</td>\n",
       "      <td>0</td>\n",
       "      <td>Yes</td>\n",
       "      <td>Self-employed</td>\n",
       "      <td>Rural</td>\n",
       "      <td>174.12</td>\n",
       "      <td>24.0</td>\n",
       "      <td>never smoked</td>\n",
       "      <td>1</td>\n",
       "    </tr>\n",
       "  </tbody>\n",
       "</table>\n",
       "</div>"
      ],
      "text/plain": [
       "      id  gender   age  hypertension  heart_disease ever_married  \\\n",
       "0   9046    Male  67.0             0              1          Yes   \n",
       "1  51676  Female  61.0             0              0          Yes   \n",
       "2  31112    Male  80.0             0              1          Yes   \n",
       "3  60182  Female  49.0             0              0          Yes   \n",
       "4   1665  Female  79.0             1              0          Yes   \n",
       "\n",
       "       work_type Residence_type  avg_glucose_level   bmi   smoking_status  \\\n",
       "0        Private          Urban             228.69  36.6  formerly smoked   \n",
       "1  Self-employed          Rural             202.21   NaN     never smoked   \n",
       "2        Private          Rural             105.92  32.5     never smoked   \n",
       "3        Private          Urban             171.23  34.4           smokes   \n",
       "4  Self-employed          Rural             174.12  24.0     never smoked   \n",
       "\n",
       "   stroke  \n",
       "0       1  \n",
       "1       1  \n",
       "2       1  \n",
       "3       1  \n",
       "4       1  "
      ]
     },
     "execution_count": 58,
     "metadata": {},
     "output_type": "execute_result"
    }
   ],
   "source": [
    "# show the sample data\n",
    "df.head()"
   ]
  },
  {
   "cell_type": "code",
   "execution_count": 59,
   "id": "e9ff86b3",
   "metadata": {
    "execution": {
     "iopub.execute_input": "2024-05-01T14:14:07.684582Z",
     "iopub.status.busy": "2024-05-01T14:14:07.683878Z",
     "iopub.status.idle": "2024-05-01T14:14:07.712366Z",
     "shell.execute_reply": "2024-05-01T14:14:07.711391Z"
    },
    "papermill": {
     "duration": 0.060604,
     "end_time": "2024-05-01T14:14:07.714422",
     "exception": false,
     "start_time": "2024-05-01T14:14:07.653818",
     "status": "completed"
    },
    "tags": []
   },
   "outputs": [
    {
     "data": {
      "text/plain": [
       "id     gender  age   hypertension  heart_disease  ever_married  work_type      Residence_type  avg_glucose_level  bmi   smoking_status   stroke\n",
       "77     Female  13.0  0             0              No            children       Rural           85.81              18.6  Unknown          0         1\n",
       "49605  Male    63.0  0             0              Yes           Private        Urban           74.39              31.0  formerly smoked  0         1\n",
       "49661  Male    53.0  0             0              Yes           Govt_job       Urban           85.17              29.2  never smoked     0         1\n",
       "49646  Male    72.0  0             1              Yes           Self-employed  Rural           113.63             26.5  Unknown          0         1\n",
       "49645  Male    58.0  0             0              No            Private        Rural           76.22              22.2  formerly smoked  0         1\n",
       "                                                                                                                                                  ..\n",
       "25138  Female  78.0  1             0              Yes           Private        Rural           91.63              33.5  smokes           0         1\n",
       "25130  Female  27.0  0             0              Yes           Private        Urban           79.21              19.5  Unknown          0         1\n",
       "25107  Female  47.0  0             0              Yes           Private        Urban           65.04              30.9  never smoked     0         1\n",
       "25102  Female  51.0  0             0              Yes           Govt_job       Urban           95.16              42.7  formerly smoked  0         1\n",
       "72940  Female  2.0   0             0              No            children       Urban           102.92             17.6  Unknown          0         1\n",
       "Name: count, Length: 4909, dtype: int64"
      ]
     },
     "execution_count": 59,
     "metadata": {},
     "output_type": "execute_result"
    }
   ],
   "source": [
    "# count the values\n",
    "\n",
    "df.value_counts()"
   ]
  },
  {
   "cell_type": "markdown",
   "id": "56a10026",
   "metadata": {
    "papermill": {
     "duration": 0.027909,
     "end_time": "2024-05-01T14:14:07.771699",
     "exception": false,
     "start_time": "2024-05-01T14:14:07.743790",
     "status": "completed"
    },
    "tags": []
   },
   "source": []
  },
  {
   "cell_type": "markdown",
   "id": "96eb1a5e",
   "metadata": {
    "papermill": {
     "duration": 0.028116,
     "end_time": "2024-05-01T14:14:07.828168",
     "exception": false,
     "start_time": "2024-05-01T14:14:07.800052",
     "status": "completed"
    },
    "tags": []
   },
   "source": [
    "# Find the number of null values in each column"
   ]
  },
  {
   "cell_type": "code",
   "execution_count": 60,
   "id": "5f2184f5",
   "metadata": {
    "execution": {
     "iopub.execute_input": "2024-05-01T14:14:07.885127Z",
     "iopub.status.busy": "2024-05-01T14:14:07.884468Z",
     "iopub.status.idle": "2024-05-01T14:14:08.297499Z",
     "shell.execute_reply": "2024-05-01T14:14:08.296426Z"
    },
    "papermill": {
     "duration": 0.443855,
     "end_time": "2024-05-01T14:14:08.299780",
     "exception": false,
     "start_time": "2024-05-01T14:14:07.855925",
     "status": "completed"
    },
    "tags": []
   },
   "outputs": [
    {
     "name": "stdout",
     "output_type": "stream",
     "text": [
      "id                     0\n",
      "gender                 0\n",
      "age                    0\n",
      "hypertension           0\n",
      "heart_disease          0\n",
      "ever_married           0\n",
      "work_type              0\n",
      "Residence_type         0\n",
      "avg_glucose_level      0\n",
      "bmi                  201\n",
      "smoking_status         0\n",
      "stroke                 0\n",
      "dtype: int64\n"
     ]
    },
    {
     "data": {
      "text/plain": [
       "<Axes: >"
      ]
     },
     "execution_count": 60,
     "metadata": {},
     "output_type": "execute_result"
    },
    {
     "data": {
      "image/png": "[encoded data removed]",
      "text/plain": [
       "<Figure size 640x480 with 1 Axes>"
      ]
     },
     "metadata": {},
     "output_type": "display_data"
    }
   ],
   "source": [
    "print(df.isna().sum())\n",
    "\n",
    "# graphical representation of null values\n",
    "df.isna().sum().plot(kind = \"barh\")"
   ]
  },
  {
   "cell_type": "markdown",
   "id": "9b52e6dd",
   "metadata": {
    "papermill": {
     "duration": 0.028532,
     "end_time": "2024-05-01T14:14:08.357879",
     "exception": false,
     "start_time": "2024-05-01T14:14:08.329347",
     "status": "completed"
    },
    "tags": []
   },
   "source": [
    "Found 201 NULL values in bmi column"
   ]
  },
  {
   "cell_type": "code",
   "execution_count": 61,
   "id": "9359d10f",
   "metadata": {
    "execution": {
     "iopub.execute_input": "2024-05-01T14:14:08.459148Z",
     "iopub.status.busy": "2024-05-01T14:14:08.458286Z",
     "iopub.status.idle": "2024-05-01T14:14:08.503708Z",
     "shell.execute_reply": "2024-05-01T14:14:08.503037Z"
    },
    "papermill": {
     "duration": 0.119339,
     "end_time": "2024-05-01T14:14:08.505747",
     "exception": false,
     "start_time": "2024-05-01T14:14:08.386408",
     "status": "completed"
    },
    "tags": []
   },
   "outputs": [
    {
     "data": {
      "text/html": [
       "<div>\n",
       "<style scoped>\n",
       "    .dataframe tbody tr th:only-of-type {\n",
       "        vertical-align: middle;\n",
       "    }\n",
       "\n",
       "    .dataframe tbody tr th {\n",
       "        vertical-align: top;\n",
       "    }\n",
       "\n",
       "    .dataframe thead th {\n",
       "        text-align: right;\n",
       "    }\n",
       "</style>\n",
       "<table border=\"1\" class=\"dataframe\">\n",
       "  <thead>\n",
       "    <tr style=\"text-align: right;\">\n",
       "      <th></th>\n",
       "      <th>id</th>\n",
       "      <th>gender</th>\n",
       "      <th>age</th>\n",
       "      <th>hypertension</th>\n",
       "      <th>heart_disease</th>\n",
       "      <th>ever_married</th>\n",
       "      <th>work_type</th>\n",
       "      <th>Residence_type</th>\n",
       "      <th>avg_glucose_level</th>\n",
       "      <th>bmi</th>\n",
       "      <th>smoking_status</th>\n",
       "      <th>stroke</th>\n",
       "    </tr>\n",
       "  </thead>\n",
       "  <tbody>\n",
       "    <tr>\n",
       "      <th>count</th>\n",
       "      <td>5110.000000</td>\n",
       "      <td>5110</td>\n",
       "      <td>5110.000000</td>\n",
       "      <td>5110.000000</td>\n",
       "      <td>5110.000000</td>\n",
       "      <td>5110</td>\n",
       "      <td>5110</td>\n",
       "      <td>5110</td>\n",
       "      <td>5110.000000</td>\n",
       "      <td>4909.000000</td>\n",
       "      <td>5110</td>\n",
       "      <td>5110.000000</td>\n",
       "    </tr>\n",
       "    <tr>\n",
       "      <th>unique</th>\n",
       "      <td>NaN</td>\n",
       "      <td>3</td>\n",
       "      <td>NaN</td>\n",
       "      <td>NaN</td>\n",
       "      <td>NaN</td>\n",
       "      <td>2</td>\n",
       "      <td>5</td>\n",
       "      <td>2</td>\n",
       "      <td>NaN</td>\n",
       "      <td>NaN</td>\n",
       "      <td>4</td>\n",
       "      <td>NaN</td>\n",
       "    </tr>\n",
       "    <tr>\n",
       "      <th>top</th>\n",
       "      <td>NaN</td>\n",
       "      <td>Female</td>\n",
       "      <td>NaN</td>\n",
       "      <td>NaN</td>\n",
       "      <td>NaN</td>\n",
       "      <td>Yes</td>\n",
       "      <td>Private</td>\n",
       "      <td>Urban</td>\n",
       "      <td>NaN</td>\n",
       "      <td>NaN</td>\n",
       "      <td>never smoked</td>\n",
       "      <td>NaN</td>\n",
       "    </tr>\n",
       "    <tr>\n",
       "      <th>freq</th>\n",
       "      <td>NaN</td>\n",
       "      <td>2994</td>\n",
       "      <td>NaN</td>\n",
       "      <td>NaN</td>\n",
       "      <td>NaN</td>\n",
       "      <td>3353</td>\n",
       "      <td>2925</td>\n",
       "      <td>2596</td>\n",
       "      <td>NaN</td>\n",
       "      <td>NaN</td>\n",
       "      <td>1892</td>\n",
       "      <td>NaN</td>\n",
       "    </tr>\n",
       "    <tr>\n",
       "      <th>mean</th>\n",
       "      <td>36517.829354</td>\n",
       "      <td>NaN</td>\n",
       "      <td>43.226614</td>\n",
       "      <td>0.097456</td>\n",
       "      <td>0.054012</td>\n",
       "      <td>NaN</td>\n",
       "      <td>NaN</td>\n",
       "      <td>NaN</td>\n",
       "      <td>106.147677</td>\n",
       "      <td>28.893237</td>\n",
       "      <td>NaN</td>\n",
       "      <td>0.048728</td>\n",
       "    </tr>\n",
       "    <tr>\n",
       "      <th>std</th>\n",
       "      <td>21161.721625</td>\n",
       "      <td>NaN</td>\n",
       "      <td>22.612647</td>\n",
       "      <td>0.296607</td>\n",
       "      <td>0.226063</td>\n",
       "      <td>NaN</td>\n",
       "      <td>NaN</td>\n",
       "      <td>NaN</td>\n",
       "      <td>45.283560</td>\n",
       "      <td>7.854067</td>\n",
       "      <td>NaN</td>\n",
       "      <td>0.215320</td>\n",
       "    </tr>\n",
       "    <tr>\n",
       "      <th>min</th>\n",
       "      <td>67.000000</td>\n",
       "      <td>NaN</td>\n",
       "      <td>0.080000</td>\n",
       "      <td>0.000000</td>\n",
       "      <td>0.000000</td>\n",
       "      <td>NaN</td>\n",
       "      <td>NaN</td>\n",
       "      <td>NaN</td>\n",
       "      <td>55.120000</td>\n",
       "      <td>10.300000</td>\n",
       "      <td>NaN</td>\n",
       "      <td>0.000000</td>\n",
       "    </tr>\n",
       "    <tr>\n",
       "      <th>25%</th>\n",
       "      <td>17741.250000</td>\n",
       "      <td>NaN</td>\n",
       "      <td>25.000000</td>\n",
       "      <td>0.000000</td>\n",
       "      <td>0.000000</td>\n",
       "      <td>NaN</td>\n",
       "      <td>NaN</td>\n",
       "      <td>NaN</td>\n",
       "      <td>77.245000</td>\n",
       "      <td>23.500000</td>\n",
       "      <td>NaN</td>\n",
       "      <td>0.000000</td>\n",
       "    </tr>\n",
       "    <tr>\n",
       "      <th>50%</th>\n",
       "      <td>36932.000000</td>\n",
       "      <td>NaN</td>\n",
       "      <td>45.000000</td>\n",
       "      <td>0.000000</td>\n",
       "      <td>0.000000</td>\n",
       "      <td>NaN</td>\n",
       "      <td>NaN</td>\n",
       "      <td>NaN</td>\n",
       "      <td>91.885000</td>\n",
       "      <td>28.100000</td>\n",
       "      <td>NaN</td>\n",
       "      <td>0.000000</td>\n",
       "    </tr>\n",
       "    <tr>\n",
       "      <th>75%</th>\n",
       "      <td>54682.000000</td>\n",
       "      <td>NaN</td>\n",
       "      <td>61.000000</td>\n",
       "      <td>0.000000</td>\n",
       "      <td>0.000000</td>\n",
       "      <td>NaN</td>\n",
       "      <td>NaN</td>\n",
       "      <td>NaN</td>\n",
       "      <td>114.090000</td>\n",
       "      <td>33.100000</td>\n",
       "      <td>NaN</td>\n",
       "      <td>0.000000</td>\n",
       "    </tr>\n",
       "    <tr>\n",
       "      <th>max</th>\n",
       "      <td>72940.000000</td>\n",
       "      <td>NaN</td>\n",
       "      <td>82.000000</td>\n",
       "      <td>1.000000</td>\n",
       "      <td>1.000000</td>\n",
       "      <td>NaN</td>\n",
       "      <td>NaN</td>\n",
       "      <td>NaN</td>\n",
       "      <td>271.740000</td>\n",
       "      <td>97.600000</td>\n",
       "      <td>NaN</td>\n",
       "      <td>1.000000</td>\n",
       "    </tr>\n",
       "  </tbody>\n",
       "</table>\n",
       "</div>"
      ],
      "text/plain": [
       "                  id  gender          age  hypertension  heart_disease  \\\n",
       "count    5110.000000    5110  5110.000000   5110.000000    5110.000000   \n",
       "unique           NaN       3          NaN           NaN            NaN   \n",
       "top              NaN  Female          NaN           NaN            NaN   \n",
       "freq             NaN    2994          NaN           NaN            NaN   \n",
       "mean    36517.829354     NaN    43.226614      0.097456       0.054012   \n",
       "std     21161.721625     NaN    22.612647      0.296607       0.226063   \n",
       "min        67.000000     NaN     0.080000      0.000000       0.000000   \n",
       "25%     17741.250000     NaN    25.000000      0.000000       0.000000   \n",
       "50%     36932.000000     NaN    45.000000      0.000000       0.000000   \n",
       "75%     54682.000000     NaN    61.000000      0.000000       0.000000   \n",
       "max     72940.000000     NaN    82.000000      1.000000       1.000000   \n",
       "\n",
       "       ever_married work_type Residence_type  avg_glucose_level          bmi  \\\n",
       "count          5110      5110           5110        5110.000000  4909.000000   \n",
       "unique            2         5              2                NaN          NaN   \n",
       "top             Yes   Private          Urban                NaN          NaN   \n",
       "freq           3353      2925           2596                NaN          NaN   \n",
       "mean            NaN       NaN            NaN         106.147677    28.893237   \n",
       "std             NaN       NaN            NaN          45.283560     7.854067   \n",
       "min             NaN       NaN            NaN          55.120000    10.300000   \n",
       "25%             NaN       NaN            NaN          77.245000    23.500000   \n",
       "50%             NaN       NaN            NaN          91.885000    28.100000   \n",
       "75%             NaN       NaN            NaN         114.090000    33.100000   \n",
       "max             NaN       NaN            NaN         271.740000    97.600000   \n",
       "\n",
       "       smoking_status       stroke  \n",
       "count            5110  5110.000000  \n",
       "unique              4          NaN  \n",
       "top      never smoked          NaN  \n",
       "freq             1892          NaN  \n",
       "mean              NaN     0.048728  \n",
       "std               NaN     0.215320  \n",
       "min               NaN     0.000000  \n",
       "25%               NaN     0.000000  \n",
       "50%               NaN     0.000000  \n",
       "75%               NaN     0.000000  \n",
       "max               NaN     1.000000  "
      ]
     },
     "execution_count": 61,
     "metadata": {},
     "output_type": "execute_result"
    }
   ],
   "source": [
    "# statistical analysis\n",
    "\n",
    "df.describe(include = \"all\")"
   ]
  },
  {
   "cell_type": "code",
   "execution_count": 62,
   "id": "11fbd284",
   "metadata": {
    "execution": {
     "iopub.execute_input": "2024-05-01T14:14:08.568838Z",
     "iopub.status.busy": "2024-05-01T14:14:08.567969Z",
     "iopub.status.idle": "2024-05-01T14:14:08.582699Z",
     "shell.execute_reply": "2024-05-01T14:14:08.582008Z"
    },
    "papermill": {
     "duration": 0.048828,
     "end_time": "2024-05-01T14:14:08.584767",
     "exception": false,
     "start_time": "2024-05-01T14:14:08.535939",
     "status": "completed"
    },
    "tags": []
   },
   "outputs": [
    {
     "name": "stdout",
     "output_type": "stream",
     "text": [
      "<class 'pandas.core.frame.DataFrame'>\n",
      "RangeIndex: 5110 entries, 0 to 5109\n",
      "Data columns (total 12 columns):\n",
      " #   Column             Non-Null Count  Dtype  \n",
      "---  ------             --------------  -----  \n",
      " 0   id                 5110 non-null   int64  \n",
      " 1   gender             5110 non-null   object \n",
      " 2   age                5110 non-null   float64\n",
      " 3   hypertension       5110 non-null   int64  \n",
      " 4   heart_disease      5110 non-null   int64  \n",
      " 5   ever_married       5110 non-null   object \n",
      " 6   work_type          5110 non-null   object \n",
      " 7   Residence_type     5110 non-null   object \n",
      " 8   avg_glucose_level  5110 non-null   float64\n",
      " 9   bmi                4909 non-null   float64\n",
      " 10  smoking_status     5110 non-null   object \n",
      " 11  stroke             5110 non-null   int64  \n",
      "dtypes: float64(3), int64(4), object(5)\n",
      "memory usage: 479.2+ KB\n"
     ]
    }
   ],
   "source": [
    "# provide the datatype of all column\n",
    "\n",
    "df.info()"
   ]
  },
  {
   "cell_type": "markdown",
   "id": "10498e4f",
   "metadata": {
    "papermill": {
     "duration": 0.028997,
     "end_time": "2024-05-01T14:14:08.643937",
     "exception": false,
     "start_time": "2024-05-01T14:14:08.614940",
     "status": "completed"
    },
    "tags": []
   },
   "source": [
    "# Pre-Processign + EDA "
   ]
  },
  {
   "cell_type": "code",
   "execution_count": 63,
   "id": "b1efb50c",
   "metadata": {
    "execution": {
     "iopub.execute_input": "2024-05-01T14:14:08.705809Z",
     "iopub.status.busy": "2024-05-01T14:14:08.704910Z",
     "iopub.status.idle": "2024-05-01T14:14:08.712220Z",
     "shell.execute_reply": "2024-05-01T14:14:08.711231Z"
    },
    "papermill": {
     "duration": 0.040562,
     "end_time": "2024-05-01T14:14:08.714595",
     "exception": false,
     "start_time": "2024-05-01T14:14:08.674033",
     "status": "completed"
    },
    "tags": []
   },
   "outputs": [],
   "source": [
    "df = df.drop(['id'], axis = 1)"
   ]
  },
  {
   "cell_type": "markdown",
   "id": "0403a635",
   "metadata": {
    "papermill": {
     "duration": 0.02863,
     "end_time": "2024-05-01T14:14:08.772786",
     "exception": false,
     "start_time": "2024-05-01T14:14:08.744156",
     "status": "completed"
    },
    "tags": []
   },
   "source": [
    "# Gender Analysis"
   ]
  },
  {
   "cell_type": "code",
   "execution_count": 64,
   "id": "469f1f34",
   "metadata": {
    "execution": {
     "iopub.execute_input": "2024-05-01T14:14:08.834310Z",
     "iopub.status.busy": "2024-05-01T14:14:08.833386Z",
     "iopub.status.idle": "2024-05-01T14:14:08.842492Z",
     "shell.execute_reply": "2024-05-01T14:14:08.841585Z"
    },
    "papermill": {
     "duration": 0.042086,
     "end_time": "2024-05-01T14:14:08.844592",
     "exception": false,
     "start_time": "2024-05-01T14:14:08.802506",
     "status": "completed"
    },
    "tags": []
   },
   "outputs": [
    {
     "data": {
      "text/plain": [
       "gender\n",
       "Female    2994\n",
       "Male      2115\n",
       "Other        1\n",
       "Name: count, dtype: int64"
      ]
     },
     "execution_count": 64,
     "metadata": {},
     "output_type": "execute_result"
    }
   ],
   "source": [
    "df[\"gender\"].value_counts()"
   ]
  },
  {
   "cell_type": "markdown",
   "id": "967663b1",
   "metadata": {
    "papermill": {
     "duration": 0.029031,
     "end_time": "2024-05-01T14:14:08.903603",
     "exception": false,
     "start_time": "2024-05-01T14:14:08.874572",
     "status": "completed"
    },
    "tags": []
   },
   "source": [
    "we have a 'other ' gender , we will remove it"
   ]
  },
  {
   "cell_type": "code",
   "execution_count": 65,
   "id": "2ddd9a44",
   "metadata": {
    "execution": {
     "iopub.execute_input": "2024-05-01T14:14:08.965607Z",
     "iopub.status.busy": "2024-05-01T14:14:08.964867Z",
     "iopub.status.idle": "2024-05-01T14:14:09.098001Z",
     "shell.execute_reply": "2024-05-01T14:14:09.096741Z"
    },
    "papermill": {
     "duration": 0.16884,
     "end_time": "2024-05-01T14:14:09.101768",
     "exception": false,
     "start_time": "2024-05-01T14:14:08.932928",
     "status": "completed"
    },
    "tags": []
   },
   "outputs": [
    {
     "name": "stdout",
     "output_type": "stream",
     "text": [
      "gender\n",
      "Female    2995\n",
      "Male      2115\n",
      "Name: count, dtype: int64\n"
     ]
    },
    {
     "data": {
      "text/plain": [
       "<Axes: ylabel='count'>"
      ]
     },
     "execution_count": 65,
     "metadata": {},
     "output_type": "execute_result"
    },
    {
     "data": {
      "image/png": "[encoded data removed]",
      "text/plain": [
       "<Figure size 640x480 with 1 Axes>"
      ]
     },
     "metadata": {},
     "output_type": "display_data"
    }
   ],
   "source": [
    "# remove the other gender \n",
    "df[\"gender\"] = df[\"gender\"].replace(\"Other\", \"Female\")\n",
    "\n",
    "# plot the pie chart\n",
    "\n",
    "print(df[\"gender\"].value_counts())\n",
    "\n",
    "df[\"gender\"].value_counts().plot(kind = \"pie\")"
   ]
  },
  {
   "cell_type": "markdown",
   "id": "62daffd0",
   "metadata": {
    "papermill": {
     "duration": 0.03306,
     "end_time": "2024-05-01T14:14:09.200723",
     "exception": false,
     "start_time": "2024-05-01T14:14:09.167663",
     "status": "completed"
    },
    "tags": []
   },
   "source": [
    "# Target Feature - Stroke\n",
    "Stroke Analysis"
   ]
  },
  {
   "cell_type": "code",
   "execution_count": 66,
   "id": "2842c0da",
   "metadata": {
    "execution": {
     "iopub.execute_input": "2024-05-01T14:14:09.263720Z",
     "iopub.status.busy": "2024-05-01T14:14:09.263134Z",
     "iopub.status.idle": "2024-05-01T14:14:09.271166Z",
     "shell.execute_reply": "2024-05-01T14:14:09.270488Z"
    },
    "papermill": {
     "duration": 0.042854,
     "end_time": "2024-05-01T14:14:09.273253",
     "exception": false,
     "start_time": "2024-05-01T14:14:09.230399",
     "status": "completed"
    },
    "tags": []
   },
   "outputs": [
    {
     "data": {
      "text/plain": [
       "stroke\n",
       "0    4861\n",
       "1     249\n",
       "Name: count, dtype: int64"
      ]
     },
     "execution_count": 66,
     "metadata": {},
     "output_type": "execute_result"
    }
   ],
   "source": [
    "# value count in the stroke attributes\n",
    "\n",
    "df[\"stroke\"].value_counts()\n"
   ]
  },
  {
   "cell_type": "code",
   "execution_count": 67,
   "id": "aa4906fd",
   "metadata": {
    "execution": {
     "iopub.execute_input": "2024-05-01T14:14:09.336391Z",
     "iopub.status.busy": "2024-05-01T14:14:09.335773Z",
     "iopub.status.idle": "2024-05-01T14:14:09.545874Z",
     "shell.execute_reply": "2024-05-01T14:14:09.544826Z"
    },
    "papermill": {
     "duration": 0.244281,
     "end_time": "2024-05-01T14:14:09.548228",
     "exception": false,
     "start_time": "2024-05-01T14:14:09.303947",
     "status": "completed"
    },
    "tags": []
   },
   "outputs": [
    {
     "data": {
      "text/plain": [
       "<Axes: xlabel='stroke'>"
      ]
     },
     "execution_count": 67,
     "metadata": {},
     "output_type": "execute_result"
    },
    {
     "data": {
      "image/png": "[encoded data removed]",
      "text/plain": [
       "<Figure size 640x480 with 1 Axes>"
      ]
     },
     "metadata": {},
     "output_type": "display_data"
    }
   ],
   "source": [
    "# plot the bar graph\n",
    "\n",
    "df[\"stroke\"].value_counts().plot(kind = \"bar\", color = \"blue\")"
   ]
  },
  {
   "cell_type": "code",
   "execution_count": 68,
   "id": "babe1005",
   "metadata": {
    "execution": {
     "iopub.execute_input": "2024-05-01T14:14:09.615162Z",
     "iopub.status.busy": "2024-05-01T14:14:09.614529Z",
     "iopub.status.idle": "2024-05-01T14:14:09.621564Z",
     "shell.execute_reply": "2024-05-01T14:14:09.620509Z"
    },
    "papermill": {
     "duration": 0.04168,
     "end_time": "2024-05-01T14:14:09.623335",
     "exception": false,
     "start_time": "2024-05-01T14:14:09.581655",
     "status": "completed"
    },
    "tags": []
   },
   "outputs": [
    {
     "name": "stdout",
     "output_type": "stream",
     "text": [
      "% of people who actually got stroke  4.9\n"
     ]
    }
   ],
   "source": [
    "print(\"% of people who actually got stroke \", (df[\"stroke\"].value_counts()[1] / df[\"stroke\"].value_counts().sum()).round(3) * 100)"
   ]
  },
  {
   "cell_type": "markdown",
   "id": "a2ccb135",
   "metadata": {
    "papermill": {
     "duration": 0.030619,
     "end_time": "2024-05-01T14:14:09.683704",
     "exception": false,
     "start_time": "2024-05-01T14:14:09.653085",
     "status": "completed"
    },
    "tags": []
   },
   "source": [
    "Only 5% of people got stroke"
   ]
  },
  {
   "cell_type": "markdown",
   "id": "cc6cb2cc",
   "metadata": {
    "papermill": {
     "duration": 0.031203,
     "end_time": "2024-05-01T14:14:09.745592",
     "exception": false,
     "start_time": "2024-05-01T14:14:09.714389",
     "status": "completed"
    },
    "tags": []
   },
   "source": [
    "# Hyper-tension Analysis"
   ]
  },
  {
   "cell_type": "code",
   "execution_count": 69,
   "id": "2df4ce1d",
   "metadata": {
    "execution": {
     "iopub.execute_input": "2024-05-01T14:14:09.808727Z",
     "iopub.status.busy": "2024-05-01T14:14:09.807717Z",
     "iopub.status.idle": "2024-05-01T14:14:09.814734Z",
     "shell.execute_reply": "2024-05-01T14:14:09.814090Z"
    },
    "papermill": {
     "duration": 0.040595,
     "end_time": "2024-05-01T14:14:09.816647",
     "exception": false,
     "start_time": "2024-05-01T14:14:09.776052",
     "status": "completed"
    },
    "tags": []
   },
   "outputs": [
    {
     "data": {
      "text/plain": [
       "hypertension\n",
       "0    4612\n",
       "1     498\n",
       "Name: count, dtype: int64"
      ]
     },
     "execution_count": 69,
     "metadata": {},
     "output_type": "execute_result"
    }
   ],
   "source": [
    "df['hypertension'].value_counts()"
   ]
  },
  {
   "cell_type": "code",
   "execution_count": 70,
   "id": "5b6fd696",
   "metadata": {
    "execution": {
     "iopub.execute_input": "2024-05-01T14:14:09.880987Z",
     "iopub.status.busy": "2024-05-01T14:14:09.880085Z",
     "iopub.status.idle": "2024-05-01T14:14:10.049606Z",
     "shell.execute_reply": "2024-05-01T14:14:10.048879Z"
    },
    "papermill": {
     "duration": 0.20332,
     "end_time": "2024-05-01T14:14:10.051476",
     "exception": false,
     "start_time": "2024-05-01T14:14:09.848156",
     "status": "completed"
    },
    "tags": []
   },
   "outputs": [
    {
     "data": {
      "text/plain": [
       "<Axes: xlabel='hypertension'>"
      ]
     },
     "execution_count": 70,
     "metadata": {},
     "output_type": "execute_result"
    },
    {
     "data": {
      "image/png": "[encoded data removed]",
      "text/plain": [
       "<Figure size 640x480 with 1 Axes>"
      ]
     },
     "metadata": {},
     "output_type": "display_data"
    }
   ],
   "source": [
    "df['hypertension'].value_counts().plot(kind = \"bar\", color = \"red\")"
   ]
  },
  {
   "cell_type": "markdown",
   "id": "16b50633",
   "metadata": {
    "papermill": {
     "duration": 0.030503,
     "end_time": "2024-05-01T14:14:10.113320",
     "exception": false,
     "start_time": "2024-05-01T14:14:10.082817",
     "status": "completed"
    },
    "tags": []
   },
   "source": [
    "# Work type analysis"
   ]
  },
  {
   "cell_type": "code",
   "execution_count": 71,
   "id": "17fbe545",
   "metadata": {
    "execution": {
     "iopub.execute_input": "2024-05-01T14:14:10.178346Z",
     "iopub.status.busy": "2024-05-01T14:14:10.177498Z",
     "iopub.status.idle": "2024-05-01T14:14:10.186431Z",
     "shell.execute_reply": "2024-05-01T14:14:10.185514Z"
    },
    "papermill": {
     "duration": 0.044316,
     "end_time": "2024-05-01T14:14:10.188432",
     "exception": false,
     "start_time": "2024-05-01T14:14:10.144116",
     "status": "completed"
    },
    "tags": []
   },
   "outputs": [
    {
     "data": {
      "text/plain": [
       "work_type\n",
       "Private          2925\n",
       "Self-employed     819\n",
       "children          687\n",
       "Govt_job          657\n",
       "Never_worked       22\n",
       "Name: count, dtype: int64"
      ]
     },
     "execution_count": 71,
     "metadata": {},
     "output_type": "execute_result"
    }
   ],
   "source": [
    "df[\"work_type\"].value_counts()"
   ]
  },
  {
   "cell_type": "code",
   "execution_count": 72,
   "id": "8553ad79",
   "metadata": {
    "execution": {
     "iopub.execute_input": "2024-05-01T14:14:10.255524Z",
     "iopub.status.busy": "2024-05-01T14:14:10.255154Z",
     "iopub.status.idle": "2024-05-01T14:14:10.377339Z",
     "shell.execute_reply": "2024-05-01T14:14:10.376417Z"
    },
    "papermill": {
     "duration": 0.16154,
     "end_time": "2024-05-01T14:14:10.381709",
     "exception": false,
     "start_time": "2024-05-01T14:14:10.220169",
     "status": "completed"
    },
    "tags": []
   },
   "outputs": [
    {
     "data": {
      "text/plain": [
       "<Axes: ylabel='count'>"
      ]
     },
     "execution_count": 72,
     "metadata": {},
     "output_type": "execute_result"
    },
    {
     "data": {
      "image/png": "[encoded data removed]",
      "text/plain": [
       "<Figure size 640x480 with 1 Axes>"
      ]
     },
     "metadata": {},
     "output_type": "display_data"
    }
   ],
   "source": [
    "# graphical representation\n",
    "\n",
    "df['work_type'].value_counts().plot(kind = \"pie\")"
   ]
  },
  {
   "cell_type": "markdown",
   "id": "db24287e",
   "metadata": {
    "papermill": {
     "duration": 0.042073,
     "end_time": "2024-05-01T14:14:10.492006",
     "exception": false,
     "start_time": "2024-05-01T14:14:10.449933",
     "status": "completed"
    },
    "tags": []
   },
   "source": [
    "# Smoking status Analysis"
   ]
  },
  {
   "cell_type": "code",
   "execution_count": 73,
   "id": "4ff48177",
   "metadata": {
    "execution": {
     "iopub.execute_input": "2024-05-01T14:14:10.560358Z",
     "iopub.status.busy": "2024-05-01T14:14:10.559981Z",
     "iopub.status.idle": "2024-05-01T14:14:10.569601Z",
     "shell.execute_reply": "2024-05-01T14:14:10.568902Z"
    },
    "papermill": {
     "duration": 0.046049,
     "end_time": "2024-05-01T14:14:10.571532",
     "exception": false,
     "start_time": "2024-05-01T14:14:10.525483",
     "status": "completed"
    },
    "tags": []
   },
   "outputs": [
    {
     "data": {
      "text/plain": [
       "smoking_status\n",
       "never smoked       1892\n",
       "Unknown            1544\n",
       "formerly smoked     885\n",
       "smokes              789\n",
       "Name: count, dtype: int64"
      ]
     },
     "execution_count": 73,
     "metadata": {},
     "output_type": "execute_result"
    }
   ],
   "source": [
    "df[\"smoking_status\"].value_counts()"
   ]
  },
  {
   "cell_type": "code",
   "execution_count": 74,
   "id": "cb2faf57",
   "metadata": {
    "execution": {
     "iopub.execute_input": "2024-05-01T14:14:10.642091Z",
     "iopub.status.busy": "2024-05-01T14:14:10.641508Z",
     "iopub.status.idle": "2024-05-01T14:14:10.773624Z",
     "shell.execute_reply": "2024-05-01T14:14:10.772299Z"
    },
    "papermill": {
     "duration": 0.170944,
     "end_time": "2024-05-01T14:14:10.777507",
     "exception": false,
     "start_time": "2024-05-01T14:14:10.606563",
     "status": "completed"
    },
    "tags": []
   },
   "outputs": [
    {
     "data": {
      "text/plain": [
       "<Axes: ylabel='count'>"
      ]
     },
     "execution_count": 74,
     "metadata": {},
     "output_type": "execute_result"
    },
    {
     "data": {
      "image/png": "[encoded data removed]",
      "text/plain": [
       "<Figure size 640x480 with 1 Axes>"
      ]
     },
     "metadata": {},
     "output_type": "display_data"
    }
   ],
   "source": [
    "df[\"smoking_status\"].value_counts().plot(kind = \"pie\")"
   ]
  },
  {
   "cell_type": "markdown",
   "id": "a96a853c",
   "metadata": {
    "papermill": {
     "duration": 0.034634,
     "end_time": "2024-05-01T14:14:10.880512",
     "exception": false,
     "start_time": "2024-05-01T14:14:10.845878",
     "status": "completed"
    },
    "tags": []
   },
   "source": [
    "# Residance type Analysis"
   ]
  },
  {
   "cell_type": "code",
   "execution_count": 75,
   "id": "62b7439e",
   "metadata": {
    "execution": {
     "iopub.execute_input": "2024-05-01T14:14:10.949515Z",
     "iopub.status.busy": "2024-05-01T14:14:10.949160Z",
     "iopub.status.idle": "2024-05-01T14:14:10.957391Z",
     "shell.execute_reply": "2024-05-01T14:14:10.956681Z"
    },
    "papermill": {
     "duration": 0.044585,
     "end_time": "2024-05-01T14:14:10.959354",
     "exception": false,
     "start_time": "2024-05-01T14:14:10.914769",
     "status": "completed"
    },
    "tags": []
   },
   "outputs": [
    {
     "data": {
      "text/plain": [
       "Residence_type\n",
       "Urban    2596\n",
       "Rural    2514\n",
       "Name: count, dtype: int64"
      ]
     },
     "execution_count": 75,
     "metadata": {},
     "output_type": "execute_result"
    }
   ],
   "source": [
    "df[\"Residence_type\"].value_counts()"
   ]
  },
  {
   "cell_type": "code",
   "execution_count": 76,
   "id": "474afd83",
   "metadata": {
    "execution": {
     "iopub.execute_input": "2024-05-01T14:14:11.029941Z",
     "iopub.status.busy": "2024-05-01T14:14:11.029247Z",
     "iopub.status.idle": "2024-05-01T14:14:11.141980Z",
     "shell.execute_reply": "2024-05-01T14:14:11.140612Z"
    },
    "papermill": {
     "duration": 0.150549,
     "end_time": "2024-05-01T14:14:11.144213",
     "exception": false,
     "start_time": "2024-05-01T14:14:10.993664",
     "status": "completed"
    },
    "tags": []
   },
   "outputs": [
    {
     "data": {
      "text/plain": [
       "<Axes: ylabel='count'>"
      ]
     },
     "execution_count": 76,
     "metadata": {},
     "output_type": "execute_result"
    },
    {
     "data": {
      "image/png": "[encoded data removed]",
      "text/plain": [
       "<Figure size 640x480 with 1 Axes>"
      ]
     },
     "metadata": {},
     "output_type": "display_data"
    }
   ],
   "source": [
    "df[\"Residence_type\"].value_counts().plot(kind = \"pie\")"
   ]
  },
  {
   "cell_type": "markdown",
   "id": "f658ec01",
   "metadata": {
    "papermill": {
     "duration": 0.03646,
     "end_time": "2024-05-01T14:14:11.250691",
     "exception": false,
     "start_time": "2024-05-01T14:14:11.214231",
     "status": "completed"
    },
    "tags": []
   },
   "source": [
    "We have equal percentage of population who are from urban and rural areas"
   ]
  },
  {
   "cell_type": "markdown",
   "id": "51d00f17",
   "metadata": {
    "papermill": {
     "duration": 0.032496,
     "end_time": "2024-05-01T14:14:11.316049",
     "exception": false,
     "start_time": "2024-05-01T14:14:11.283553",
     "status": "completed"
    },
    "tags": []
   },
   "source": [
    "# BMI Analysis"
   ]
  },
  {
   "cell_type": "code",
   "execution_count": 77,
   "id": "1f476f88",
   "metadata": {
    "execution": {
     "iopub.execute_input": "2024-05-01T14:14:11.385129Z",
     "iopub.status.busy": "2024-05-01T14:14:11.383944Z",
     "iopub.status.idle": "2024-05-01T14:14:11.391156Z",
     "shell.execute_reply": "2024-05-01T14:14:11.390368Z"
    },
    "papermill": {
     "duration": 0.043622,
     "end_time": "2024-05-01T14:14:11.393032",
     "exception": false,
     "start_time": "2024-05-01T14:14:11.349410",
     "status": "completed"
    },
    "tags": []
   },
   "outputs": [
    {
     "data": {
      "text/plain": [
       "201"
      ]
     },
     "execution_count": 77,
     "metadata": {},
     "output_type": "execute_result"
    }
   ],
   "source": [
    "# Number of  BMI- NULL values\n",
    "\n",
    "df[\"bmi\"].isnull().sum()"
   ]
  },
  {
   "cell_type": "markdown",
   "id": "9ffd1326",
   "metadata": {
    "papermill": {
     "duration": 0.032817,
     "end_time": "2024-05-01T14:14:11.458860",
     "exception": false,
     "start_time": "2024-05-01T14:14:11.426043",
     "status": "completed"
    },
    "tags": []
   },
   "source": [
    "we have null values in BMI column contains 201 NaN"
   ]
  },
  {
   "cell_type": "code",
   "execution_count": 78,
   "id": "96f52d63",
   "metadata": {
    "execution": {
     "iopub.execute_input": "2024-05-01T14:14:11.528093Z",
     "iopub.status.busy": "2024-05-01T14:14:11.527736Z",
     "iopub.status.idle": "2024-05-01T14:14:11.969180Z",
     "shell.execute_reply": "2024-05-01T14:14:11.968173Z"
    },
    "papermill": {
     "duration": 0.478971,
     "end_time": "2024-05-01T14:14:11.971406",
     "exception": false,
     "start_time": "2024-05-01T14:14:11.492435",
     "status": "completed"
    },
    "tags": []
   },
   "outputs": [
    {
     "data": {
      "text/plain": [
       "<Axes: xlabel='bmi', ylabel='Count'>"
      ]
     },
     "execution_count": 78,
     "metadata": {},
     "output_type": "execute_result"
    },
    {
     "data": {
      "image/png": "[encoded data removed]",
      "text/plain": [
       "<Figure size 640x480 with 1 Axes>"
      ]
     },
     "metadata": {},
     "output_type": "display_data"
    }
   ],
   "source": [
    "sns.histplot(data = df[\"bmi\"])"
   ]
  },
  {
   "cell_type": "markdown",
   "id": "984c926c",
   "metadata": {
    "papermill": {
     "duration": 0.036485,
     "end_time": "2024-05-01T14:14:12.050003",
     "exception": false,
     "start_time": "2024-05-01T14:14:12.013518",
     "status": "completed"
    },
    "tags": []
   },
   "source": [
    "BMI is highly skewed"
   ]
  },
  {
   "cell_type": "code",
   "execution_count": 79,
   "id": "2a054a88",
   "metadata": {
    "execution": {
     "iopub.execute_input": "2024-05-01T14:14:12.120839Z",
     "iopub.status.busy": "2024-05-01T14:14:12.120484Z",
     "iopub.status.idle": "2024-05-01T14:14:12.316334Z",
     "shell.execute_reply": "2024-05-01T14:14:12.315247Z"
    },
    "papermill": {
     "duration": 0.234903,
     "end_time": "2024-05-01T14:14:12.319030",
     "exception": false,
     "start_time": "2024-05-01T14:14:12.084127",
     "status": "completed"
    },
    "tags": []
   },
   "outputs": [
    {
     "data": {
      "text/plain": [
       "<Axes: ylabel='bmi'>"
      ]
     },
     "execution_count": 79,
     "metadata": {},
     "output_type": "execute_result"
    },
    {
     "data": {
      "image/png": "[encoded data removed]",
      "text/plain": [
       "<Figure size 640x480 with 1 Axes>"
      ]
     },
     "metadata": {},
     "output_type": "display_data"
    }
   ],
   "source": [
    "sns.boxplot(data = df[\"bmi\"])"
   ]
  },
  {
   "cell_type": "markdown",
   "id": "9bf1b31f",
   "metadata": {
    "papermill": {
     "duration": 0.035172,
     "end_time": "2024-05-01T14:14:12.389559",
     "exception": false,
     "start_time": "2024-05-01T14:14:12.354387",
     "status": "completed"
    },
    "tags": []
   },
   "source": [
    "Based on histogram and distplot , there are outliers in BMI column"
   ]
  },
  {
   "cell_type": "code",
   "execution_count": 80,
   "id": "434414d7",
   "metadata": {
    "execution": {
     "iopub.execute_input": "2024-05-01T14:14:12.459624Z",
     "iopub.status.busy": "2024-05-01T14:14:12.459268Z",
     "iopub.status.idle": "2024-05-01T14:14:12.472364Z",
     "shell.execute_reply": "2024-05-01T14:14:12.471647Z"
    },
    "papermill": {
     "duration": 0.050396,
     "end_time": "2024-05-01T14:14:12.474254",
     "exception": false,
     "start_time": "2024-05-01T14:14:12.423858",
     "status": "completed"
    },
    "tags": []
   },
   "outputs": [
    {
     "data": {
      "text/plain": [
       "bmi\n",
       "False    5000\n",
       "True      110\n",
       "Name: count, dtype: int64"
      ]
     },
     "execution_count": 80,
     "metadata": {},
     "output_type": "execute_result"
    }
   ],
   "source": [
    "# finding the count of ouliers\n",
    "q1 = df[\"bmi\"].quantile(0.25)\n",
    "q3 = df[\"bmi\"].quantile(0.75)\n",
    "# Finding IQR\n",
    "IQR = q3 - q1\n",
    "da = (df[\"bmi\"] < (q1 - 1.5 * IQR)) | (df[\"bmi\"] > (q3 + 1.5 * IQR))\n",
    "da.value_counts()"
   ]
  },
  {
   "cell_type": "markdown",
   "id": "722203a4",
   "metadata": {
    "papermill": {
     "duration": 0.036714,
     "end_time": "2024-05-01T14:14:12.546542",
     "exception": false,
     "start_time": "2024-05-01T14:14:12.509828",
     "status": "completed"
    },
    "tags": []
   },
   "source": [
    "Total Outliers : 110\n",
    "\n",
    "Total non-outliers : 5000"
   ]
  },
  {
   "cell_type": "code",
   "execution_count": 81,
   "id": "3b176a4c",
   "metadata": {
    "execution": {
     "iopub.execute_input": "2024-05-01T14:14:12.619053Z",
     "iopub.status.busy": "2024-05-01T14:14:12.617989Z",
     "iopub.status.idle": "2024-05-01T14:14:12.624595Z",
     "shell.execute_reply": "2024-05-01T14:14:12.623830Z"
    },
    "papermill": {
     "duration": 0.04426,
     "end_time": "2024-05-01T14:14:12.626532",
     "exception": false,
     "start_time": "2024-05-01T14:14:12.582272",
     "status": "completed"
    },
    "tags": []
   },
   "outputs": [
    {
     "data": {
      "text/plain": [
       "3.9334637964774952"
      ]
     },
     "execution_count": 81,
     "metadata": {},
     "output_type": "execute_result"
    }
   ],
   "source": [
    "# percentage of null values in BMI\n",
    "df[\"bmi\"].isna().sum() / len(df[\"bmi\"]) * 100"
   ]
  },
  {
   "cell_type": "markdown",
   "id": "6b0a3574",
   "metadata": {
    "papermill": {
     "duration": 0.036272,
     "end_time": "2024-05-01T14:14:12.698141",
     "exception": false,
     "start_time": "2024-05-01T14:14:12.661869",
     "status": "completed"
    },
    "tags": []
   },
   "source": [
    "NULL values hold 3.93% of the dataframe"
   ]
  },
  {
   "cell_type": "code",
   "execution_count": 82,
   "id": "f67e50cb",
   "metadata": {
    "execution": {
     "iopub.execute_input": "2024-05-01T14:14:12.772561Z",
     "iopub.status.busy": "2024-05-01T14:14:12.771594Z",
     "iopub.status.idle": "2024-05-01T14:14:12.778940Z",
     "shell.execute_reply": "2024-05-01T14:14:12.778007Z"
    },
    "papermill": {
     "duration": 0.045951,
     "end_time": "2024-05-01T14:14:12.780883",
     "exception": false,
     "start_time": "2024-05-01T14:14:12.734932",
     "status": "completed"
    },
    "tags": []
   },
   "outputs": [
    {
     "name": "stdout",
     "output_type": "stream",
     "text": [
      "People who got stroke and their BMI is NA : 40\n",
      "people who got stroke and their BMI is given 249\n",
      "percentage of people with stroke in NAN values to the overall dataset :  16.06425702811245\n"
     ]
    }
   ],
   "source": [
    "df_na = df.loc[df[\"bmi\"]. isnull()]\n",
    "g = df_na[\"stroke\"].sum()\n",
    "print(\"People who got stroke and their BMI is NA :\", g)\n",
    "h = df[\"stroke\"].sum()\n",
    "print(\"people who got stroke and their BMI is given\", h)\n",
    "print(\"percentage of people with stroke in NAN values to the overall dataset : \", g / h * 100)"
   ]
  },
  {
   "cell_type": "code",
   "execution_count": 83,
   "id": "7daf14d2",
   "metadata": {
    "execution": {
     "iopub.execute_input": "2024-05-01T14:14:12.853772Z",
     "iopub.status.busy": "2024-05-01T14:14:12.853391Z",
     "iopub.status.idle": "2024-05-01T14:14:12.859825Z",
     "shell.execute_reply": "2024-05-01T14:14:12.858779Z"
    },
    "papermill": {
     "duration": 0.046073,
     "end_time": "2024-05-01T14:14:12.861862",
     "exception": false,
     "start_time": "2024-05-01T14:14:12.815789",
     "status": "completed"
    },
    "tags": []
   },
   "outputs": [
    {
     "data": {
      "text/plain": [
       "4.87279843444227"
      ]
     },
     "execution_count": 83,
     "metadata": {},
     "output_type": "execute_result"
    }
   ],
   "source": [
    "# percentage of instance who got stroke\n",
    "\n",
    "df[\"stroke\"].sum() / len(df) * 100"
   ]
  },
  {
   "cell_type": "markdown",
   "id": "d835b3ef",
   "metadata": {
    "papermill": {
     "duration": 0.034832,
     "end_time": "2024-05-01T14:14:12.933175",
     "exception": false,
     "start_time": "2024-05-01T14:14:12.898343",
     "status": "completed"
    },
    "tags": []
   },
   "source": [
    "our main  target is stroke and who got stroke in the minority 249 which is only 4.9%"
   ]
  },
  {
   "cell_type": "code",
   "execution_count": 84,
   "id": "f648143b",
   "metadata": {
    "execution": {
     "iopub.execute_input": "2024-05-01T14:14:13.007641Z",
     "iopub.status.busy": "2024-05-01T14:14:13.006964Z",
     "iopub.status.idle": "2024-05-01T14:14:13.013756Z",
     "shell.execute_reply": "2024-05-01T14:14:13.012763Z"
    },
    "papermill": {
     "duration": 0.046791,
     "end_time": "2024-05-01T14:14:13.015706",
     "exception": false,
     "start_time": "2024-05-01T14:14:12.968915",
     "status": "completed"
    },
    "tags": []
   },
   "outputs": [
    {
     "name": "stdout",
     "output_type": "stream",
     "text": [
      "Median of BMI :  28.1\n"
     ]
    }
   ],
   "source": [
    "# dealing with null values in BMI\n",
    "\n",
    "print(\"Median of BMI : \", df[\"bmi\"].median())\n",
    "\n",
    "df[\"bmi\"] = df[\"bmi\"].fillna(df[\"bmi\"].median())\n"
   ]
  },
  {
   "cell_type": "code",
   "execution_count": 85,
   "id": "47b6050e",
   "metadata": {
    "execution": {
     "iopub.execute_input": "2024-05-01T14:14:13.087947Z",
     "iopub.status.busy": "2024-05-01T14:14:13.087262Z",
     "iopub.status.idle": "2024-05-01T14:14:13.382425Z",
     "shell.execute_reply": "2024-05-01T14:14:13.381233Z"
    },
    "papermill": {
     "duration": 0.333866,
     "end_time": "2024-05-01T14:14:13.384869",
     "exception": false,
     "start_time": "2024-05-01T14:14:13.051003",
     "status": "completed"
    },
    "tags": []
   },
   "outputs": [
    {
     "data": {
      "text/plain": [
       "<Axes: >"
      ]
     },
     "execution_count": 85,
     "metadata": {},
     "output_type": "execute_result"
    },
    {
     "data": {
      "image/png": "[encoded data removed]",
      "text/plain": [
       "<Figure size 640x480 with 1 Axes>"
      ]
     },
     "metadata": {},
     "output_type": "display_data"
    }
   ],
   "source": [
    "df.isna().sum().plot(kind = \"barh\")"
   ]
  },
  {
   "cell_type": "markdown",
   "id": "12fed581",
   "metadata": {
    "papermill": {
     "duration": 0.035732,
     "end_time": "2024-05-01T14:14:13.457047",
     "exception": false,
     "start_time": "2024-05-01T14:14:13.421315",
     "status": "completed"
    },
    "tags": []
   },
   "source": [
    "# Age Analysis"
   ]
  },
  {
   "cell_type": "code",
   "execution_count": 86,
   "id": "79100420",
   "metadata": {
    "execution": {
     "iopub.execute_input": "2024-05-01T14:14:13.529426Z",
     "iopub.status.busy": "2024-05-01T14:14:13.529062Z",
     "iopub.status.idle": "2024-05-01T14:14:13.842300Z",
     "shell.execute_reply": "2024-05-01T14:14:13.841335Z"
    },
    "papermill": {
     "duration": 0.353168,
     "end_time": "2024-05-01T14:14:13.844866",
     "exception": false,
     "start_time": "2024-05-01T14:14:13.491698",
     "status": "completed"
    },
    "tags": []
   },
   "outputs": [
    {
     "data": {
      "text/plain": [
       "<Axes: xlabel='age', ylabel='Count'>"
      ]
     },
     "execution_count": 86,
     "metadata": {},
     "output_type": "execute_result"
    },
    {
     "data": {
      "image/png": "[encoded data removed]",
      "text/plain": [
       "<Figure size 640x480 with 1 Axes>"
      ]
     },
     "metadata": {},
     "output_type": "display_data"
    }
   ],
   "source": [
    "sns.histplot(data = df[\"age\"])"
   ]
  },
  {
   "cell_type": "code",
   "execution_count": 87,
   "id": "0277449e",
   "metadata": {
    "execution": {
     "iopub.execute_input": "2024-05-01T14:14:13.918682Z",
     "iopub.status.busy": "2024-05-01T14:14:13.918326Z",
     "iopub.status.idle": "2024-05-01T14:14:14.111619Z",
     "shell.execute_reply": "2024-05-01T14:14:14.110636Z"
    },
    "papermill": {
     "duration": 0.232778,
     "end_time": "2024-05-01T14:14:14.113988",
     "exception": false,
     "start_time": "2024-05-01T14:14:13.881210",
     "status": "completed"
    },
    "tags": []
   },
   "outputs": [
    {
     "data": {
      "text/plain": [
       "<Axes: ylabel='age'>"
      ]
     },
     "execution_count": 87,
     "metadata": {},
     "output_type": "execute_result"
    },
    {
     "data": {
      "image/png": "[encoded data removed]",
      "text/plain": [
       "<Figure size 640x480 with 1 Axes>"
      ]
     },
     "metadata": {},
     "output_type": "display_data"
    }
   ],
   "source": [
    "sns.boxplot(data = df[\"age\"])"
   ]
  },
  {
   "cell_type": "markdown",
   "id": "7b111d74",
   "metadata": {
    "papermill": {
     "duration": 0.03738,
     "end_time": "2024-05-01T14:14:14.189124",
     "exception": false,
     "start_time": "2024-05-01T14:14:14.151744",
     "status": "completed"
    },
    "tags": []
   },
   "source": [
    "The age parameter value does not have outliers"
   ]
  },
  {
   "cell_type": "markdown",
   "id": "58077ed5",
   "metadata": {
    "papermill": {
     "duration": 0.036406,
     "end_time": "2024-05-01T14:14:14.261518",
     "exception": false,
     "start_time": "2024-05-01T14:14:14.225112",
     "status": "completed"
    },
    "tags": []
   },
   "source": [
    "# Average Glucose Level"
   ]
  },
  {
   "cell_type": "code",
   "execution_count": 88,
   "id": "52104efa",
   "metadata": {
    "execution": {
     "iopub.execute_input": "2024-05-01T14:14:14.336446Z",
     "iopub.status.busy": "2024-05-01T14:14:14.336037Z",
     "iopub.status.idle": "2024-05-01T14:14:14.726973Z",
     "shell.execute_reply": "2024-05-01T14:14:14.725906Z"
    },
    "papermill": {
     "duration": 0.43274,
     "end_time": "2024-05-01T14:14:14.730037",
     "exception": false,
     "start_time": "2024-05-01T14:14:14.297297",
     "status": "completed"
    },
    "tags": []
   },
   "outputs": [
    {
     "data": {
      "text/plain": [
       "<Axes: xlabel='avg_glucose_level', ylabel='Count'>"
      ]
     },
     "execution_count": 88,
     "metadata": {},
     "output_type": "execute_result"
    },
    {
     "data": {
      "image/png": "[encoded data removed]",
      "text/plain": [
       "<Figure size 640x480 with 1 Axes>"
      ]
     },
     "metadata": {},
     "output_type": "display_data"
    }
   ],
   "source": [
    "sns.histplot(data = df[\"avg_glucose_level\"])"
   ]
  },
  {
   "cell_type": "code",
   "execution_count": 89,
   "id": "f047a800",
   "metadata": {
    "execution": {
     "iopub.execute_input": "2024-05-01T14:14:14.820973Z",
     "iopub.status.busy": "2024-05-01T14:14:14.820495Z",
     "iopub.status.idle": "2024-05-01T14:14:15.013329Z",
     "shell.execute_reply": "2024-05-01T14:14:15.012210Z"
    },
    "papermill": {
     "duration": 0.234176,
     "end_time": "2024-05-01T14:14:15.015588",
     "exception": false,
     "start_time": "2024-05-01T14:14:14.781412",
     "status": "completed"
    },
    "tags": []
   },
   "outputs": [
    {
     "data": {
      "text/plain": [
       "<Axes: ylabel='avg_glucose_level'>"
      ]
     },
     "execution_count": 89,
     "metadata": {},
     "output_type": "execute_result"
    },
    {
     "data": {
      "image/png": "[encoded data removed]",
      "text/plain": [
       "<Figure size 640x480 with 1 Axes>"
      ]
     },
     "metadata": {},
     "output_type": "display_data"
    }
   ],
   "source": [
    "# boxplot\n",
    "sns.boxplot(data = df[\"avg_glucose_level\"])"
   ]
  },
  {
   "cell_type": "code",
   "execution_count": 90,
   "id": "3857a364",
   "metadata": {
    "execution": {
     "iopub.execute_input": "2024-05-01T14:14:15.105240Z",
     "iopub.status.busy": "2024-05-01T14:14:15.104235Z",
     "iopub.status.idle": "2024-05-01T14:14:15.116650Z",
     "shell.execute_reply": "2024-05-01T14:14:15.115523Z"
    },
    "papermill": {
     "duration": 0.063751,
     "end_time": "2024-05-01T14:14:15.118658",
     "exception": false,
     "start_time": "2024-05-01T14:14:15.054907",
     "status": "completed"
    },
    "tags": []
   },
   "outputs": [
    {
     "data": {
      "text/plain": [
       "avg_glucose_level\n",
       "False    4483\n",
       "True      627\n",
       "Name: count, dtype: int64"
      ]
     },
     "execution_count": 90,
     "metadata": {},
     "output_type": "execute_result"
    }
   ],
   "source": [
    "# finding the count of outliers in avg_glucose_level\n",
    "\n",
    "q1 = df[\"avg_glucose_level\"].quantile(0.25)\n",
    "q3 = df[\"avg_glucose_level\"].quantile(0.75)\n",
    "IQR = q3 - q1\n",
    "da = (df[\"avg_glucose_level\"] < (q1 - 1.5 * IQR)) | (df[\"avg_glucose_level\"] > (q3 + 1.5 * IQR))\n",
    "da.value_counts()"
   ]
  },
  {
   "cell_type": "markdown",
   "id": "ba6c5435",
   "metadata": {
    "papermill": {
     "duration": 0.036956,
     "end_time": "2024-05-01T14:14:15.194637",
     "exception": false,
     "start_time": "2024-05-01T14:14:15.157681",
     "status": "completed"
    },
    "tags": []
   },
   "source": [
    "Total outliers in avg_glucose_level : 627\n",
    "\n",
    "Total non-outliers in avg_glucose_level : 4483"
   ]
  },
  {
   "cell_type": "markdown",
   "id": "230cb477",
   "metadata": {
    "papermill": {
     "duration": 0.038985,
     "end_time": "2024-05-01T14:14:15.271890",
     "exception": false,
     "start_time": "2024-05-01T14:14:15.232905",
     "status": "completed"
    },
    "tags": []
   },
   "source": [
    "# Heart diseases Analysis"
   ]
  },
  {
   "cell_type": "code",
   "execution_count": 91,
   "id": "1c730d96",
   "metadata": {
    "execution": {
     "iopub.execute_input": "2024-05-01T14:14:15.353606Z",
     "iopub.status.busy": "2024-05-01T14:14:15.352990Z",
     "iopub.status.idle": "2024-05-01T14:14:15.360818Z",
     "shell.execute_reply": "2024-05-01T14:14:15.359894Z"
    },
    "papermill": {
     "duration": 0.050461,
     "end_time": "2024-05-01T14:14:15.362788",
     "exception": false,
     "start_time": "2024-05-01T14:14:15.312327",
     "status": "completed"
    },
    "tags": []
   },
   "outputs": [
    {
     "data": {
      "text/plain": [
       "heart_disease\n",
       "0    4834\n",
       "1     276\n",
       "Name: count, dtype: int64"
      ]
     },
     "execution_count": 91,
     "metadata": {},
     "output_type": "execute_result"
    }
   ],
   "source": [
    "df[\"heart_disease\"].value_counts()"
   ]
  },
  {
   "cell_type": "code",
   "execution_count": 92,
   "id": "4f0e3dd1",
   "metadata": {
    "execution": {
     "iopub.execute_input": "2024-05-01T14:14:15.442226Z",
     "iopub.status.busy": "2024-05-01T14:14:15.441680Z",
     "iopub.status.idle": "2024-05-01T14:14:15.553635Z",
     "shell.execute_reply": "2024-05-01T14:14:15.552478Z"
    },
    "papermill": {
     "duration": 0.155342,
     "end_time": "2024-05-01T14:14:15.557355",
     "exception": false,
     "start_time": "2024-05-01T14:14:15.402013",
     "status": "completed"
    },
    "tags": []
   },
   "outputs": [
    {
     "data": {
      "text/plain": [
       "<Axes: ylabel='count'>"
      ]
     },
     "execution_count": 92,
     "metadata": {},
     "output_type": "execute_result"
    },
    {
     "data": {
      "image/png": "[encoded data removed]",
      "text/plain": [
       "<Figure size 640x480 with 1 Axes>"
      ]
     },
     "metadata": {},
     "output_type": "display_data"
    }
   ],
   "source": [
    "df[\"heart_disease\"].value_counts().plot(kind = \"pie\")"
   ]
  },
  {
   "cell_type": "markdown",
   "id": "a1c0d6af",
   "metadata": {
    "papermill": {
     "duration": 0.043302,
     "end_time": "2024-05-01T14:14:15.685520",
     "exception": false,
     "start_time": "2024-05-01T14:14:15.642218",
     "status": "completed"
    },
    "tags": []
   },
   "source": [
    "# Ever married analysis with values"
   ]
  },
  {
   "cell_type": "code",
   "execution_count": 93,
   "id": "da3aab57",
   "metadata": {
    "execution": {
     "iopub.execute_input": "2024-05-01T14:14:15.767622Z",
     "iopub.status.busy": "2024-05-01T14:14:15.767147Z",
     "iopub.status.idle": "2024-05-01T14:14:15.777129Z",
     "shell.execute_reply": "2024-05-01T14:14:15.776208Z"
    },
    "papermill": {
     "duration": 0.053729,
     "end_time": "2024-05-01T14:14:15.779101",
     "exception": false,
     "start_time": "2024-05-01T14:14:15.725372",
     "status": "completed"
    },
    "tags": []
   },
   "outputs": [
    {
     "data": {
      "text/plain": [
       "ever_married\n",
       "Yes    3353\n",
       "No     1757\n",
       "Name: count, dtype: int64"
      ]
     },
     "execution_count": 93,
     "metadata": {},
     "output_type": "execute_result"
    }
   ],
   "source": [
    "df[\"ever_married\"].value_counts()"
   ]
  },
  {
   "cell_type": "code",
   "execution_count": 94,
   "id": "ffde1f08",
   "metadata": {
    "execution": {
     "iopub.execute_input": "2024-05-01T14:14:15.866130Z",
     "iopub.status.busy": "2024-05-01T14:14:15.865484Z",
     "iopub.status.idle": "2024-05-01T14:14:15.871040Z",
     "shell.execute_reply": "2024-05-01T14:14:15.870125Z"
    },
    "papermill": {
     "duration": 0.049189,
     "end_time": "2024-05-01T14:14:15.873052",
     "exception": false,
     "start_time": "2024-05-01T14:14:15.823863",
     "status": "completed"
    },
    "tags": []
   },
   "outputs": [
    {
     "data": {
      "text/plain": [
       "0.6561643835616439"
      ]
     },
     "execution_count": 94,
     "metadata": {},
     "output_type": "execute_result"
    }
   ],
   "source": [
    "3353 / len(df)"
   ]
  },
  {
   "cell_type": "markdown",
   "id": "8505f4c3",
   "metadata": {
    "papermill": {
     "duration": 0.038489,
     "end_time": "2024-05-01T14:14:15.949594",
     "exception": false,
     "start_time": "2024-05-01T14:14:15.911105",
     "status": "completed"
    },
    "tags": []
   },
   "source": [
    "This result shows that 65.6% of people are married and 34.4 % are un-married of the population"
   ]
  },
  {
   "cell_type": "code",
   "execution_count": 95,
   "id": "e702bdc6",
   "metadata": {
    "execution": {
     "iopub.execute_input": "2024-05-01T14:14:16.028682Z",
     "iopub.status.busy": "2024-05-01T14:14:16.028273Z",
     "iopub.status.idle": "2024-05-01T14:14:16.144297Z",
     "shell.execute_reply": "2024-05-01T14:14:16.142899Z"
    },
    "papermill": {
     "duration": 0.159438,
     "end_time": "2024-05-01T14:14:16.147987",
     "exception": false,
     "start_time": "2024-05-01T14:14:15.988549",
     "status": "completed"
    },
    "tags": []
   },
   "outputs": [
    {
     "data": {
      "text/plain": [
       "<Axes: ylabel='count'>"
      ]
     },
     "execution_count": 95,
     "metadata": {},
     "output_type": "execute_result"
    },
    {
     "data": {
      "image/png": "[encoded data removed]",
      "text/plain": [
       "<Figure size 640x480 with 1 Axes>"
      ]
     },
     "metadata": {},
     "output_type": "display_data"
    }
   ],
   "source": [
    "df[\"ever_married\"].value_counts().plot(kind = \"pie\")"
   ]
  },
  {
   "cell_type": "markdown",
   "id": "3af73299",
   "metadata": {
    "papermill": {
     "duration": 0.039896,
     "end_time": "2024-05-01T14:14:16.267331",
     "exception": false,
     "start_time": "2024-05-01T14:14:16.227435",
     "status": "completed"
    },
    "tags": []
   },
   "source": [
    "# Cross Analysis - All attributes compared with target variable"
   ]
  },
  {
   "cell_type": "code",
   "execution_count": 96,
   "id": "998ea00b",
   "metadata": {
    "execution": {
     "iopub.execute_input": "2024-05-01T14:14:16.348048Z",
     "iopub.status.busy": "2024-05-01T14:14:16.347678Z",
     "iopub.status.idle": "2024-05-01T14:14:16.603169Z",
     "shell.execute_reply": "2024-05-01T14:14:16.602200Z"
    },
    "papermill": {
     "duration": 0.298443,
     "end_time": "2024-05-01T14:14:16.605574",
     "exception": false,
     "start_time": "2024-05-01T14:14:16.307131",
     "status": "completed"
    },
    "tags": []
   },
   "outputs": [
    {
     "data": {
      "text/plain": [
       "<Axes: xlabel='stroke', ylabel='count'>"
      ]
     },
     "execution_count": 96,
     "metadata": {},
     "output_type": "execute_result"
    },
    {
     "data": {
      "image/png": "[encoded data removed]",
      "text/plain": [
       "<Figure size 640x480 with 1 Axes>"
      ]
     },
     "metadata": {},
     "output_type": "display_data"
    }
   ],
   "source": [
    "# comparing stroke with gender\n",
    "\n",
    "sns.countplot(x = \"stroke\", hue = \"gender\", data = df)"
   ]
  },
  {
   "cell_type": "markdown",
   "id": "4c72a531",
   "metadata": {
    "papermill": {
     "duration": 0.040271,
     "end_time": "2024-05-01T14:14:16.686625",
     "exception": false,
     "start_time": "2024-05-01T14:14:16.646354",
     "status": "completed"
    },
    "tags": []
   },
   "source": [
    "# comparing stroke with work-type\n"
   ]
  },
  {
   "cell_type": "code",
   "execution_count": 97,
   "id": "6aa39880",
   "metadata": {
    "execution": {
     "iopub.execute_input": "2024-05-01T14:14:16.769093Z",
     "iopub.status.busy": "2024-05-01T14:14:16.768733Z",
     "iopub.status.idle": "2024-05-01T14:14:17.076102Z",
     "shell.execute_reply": "2024-05-01T14:14:17.074243Z"
    },
    "papermill": {
     "duration": 0.351587,
     "end_time": "2024-05-01T14:14:17.078334",
     "exception": false,
     "start_time": "2024-05-01T14:14:16.726747",
     "status": "completed"
    },
    "tags": []
   },
   "outputs": [
    {
     "data": {
      "text/plain": [
       "<Axes: xlabel='stroke', ylabel='count'>"
      ]
     },
     "execution_count": 97,
     "metadata": {},
     "output_type": "execute_result"
    },
    {
     "data": {
      "image/png": "[encoded data removed]",
      "text/plain": [
       "<Figure size 640x480 with 1 Axes>"
      ]
     },
     "metadata": {},
     "output_type": "display_data"
    }
   ],
   "source": [
    "sns.countplot(x = \"stroke\", hue = \"work_type\", data = df)"
   ]
  },
  {
   "cell_type": "markdown",
   "id": "95819216",
   "metadata": {
    "papermill": {
     "duration": 0.040798,
     "end_time": "2024-05-01T14:14:17.160482",
     "exception": false,
     "start_time": "2024-05-01T14:14:17.119684",
     "status": "completed"
    },
    "tags": []
   },
   "source": [
    "People who never worked did not face heart attack  and the people who are privately employed got more heart attack"
   ]
  },
  {
   "cell_type": "markdown",
   "id": "8275c452",
   "metadata": {
    "papermill": {
     "duration": 0.040279,
     "end_time": "2024-05-01T14:14:17.241019",
     "exception": false,
     "start_time": "2024-05-01T14:14:17.200740",
     "status": "completed"
    },
    "tags": []
   },
   "source": [
    "# comparing stroke with smoking status"
   ]
  },
  {
   "cell_type": "code",
   "execution_count": 98,
   "id": "08ca8f8c",
   "metadata": {
    "execution": {
     "iopub.execute_input": "2024-05-01T14:14:17.322532Z",
     "iopub.status.busy": "2024-05-01T14:14:17.322167Z",
     "iopub.status.idle": "2024-05-01T14:14:17.630170Z",
     "shell.execute_reply": "2024-05-01T14:14:17.629129Z"
    },
    "papermill": {
     "duration": 0.350834,
     "end_time": "2024-05-01T14:14:17.632271",
     "exception": false,
     "start_time": "2024-05-01T14:14:17.281437",
     "status": "completed"
    },
    "tags": []
   },
   "outputs": [
    {
     "data": {
      "text/plain": [
       "<Axes: xlabel='stroke', ylabel='count'>"
      ]
     },
     "execution_count": 98,
     "metadata": {},
     "output_type": "execute_result"
    },
    {
     "data": {
      "image/png": "[encoded data removed]",
      "text/plain": [
       "<Figure size 640x480 with 1 Axes>"
      ]
     },
     "metadata": {},
     "output_type": "display_data"
    }
   ],
   "source": [
    "sns.countplot(x = \"stroke\", hue = \"smoking_status\" , data = df)"
   ]
  },
  {
   "cell_type": "markdown",
   "id": "0c65d991",
   "metadata": {
    "papermill": {
     "duration": 0.041445,
     "end_time": "2024-05-01T14:14:17.715727",
     "exception": false,
     "start_time": "2024-05-01T14:14:17.674282",
     "status": "completed"
    },
    "tags": []
   },
   "source": [
    "**people who formely smoked got more strokes. The people who smoked and never smoked has same probability of getting stroke**"
   ]
  },
  {
   "cell_type": "markdown",
   "id": "4b48c5d2",
   "metadata": {
    "papermill": {
     "duration": 0.041456,
     "end_time": "2024-05-01T14:14:17.799932",
     "exception": false,
     "start_time": "2024-05-01T14:14:17.758476",
     "status": "completed"
    },
    "tags": []
   },
   "source": [
    "# comparing stroke with residance type"
   ]
  },
  {
   "cell_type": "code",
   "execution_count": 99,
   "id": "0b4e5a78",
   "metadata": {
    "execution": {
     "iopub.execute_input": "2024-05-01T14:14:17.887853Z",
     "iopub.status.busy": "2024-05-01T14:14:17.887489Z",
     "iopub.status.idle": "2024-05-01T14:14:18.141299Z",
     "shell.execute_reply": "2024-05-01T14:14:18.140240Z"
    },
    "papermill": {
     "duration": 0.300881,
     "end_time": "2024-05-01T14:14:18.143586",
     "exception": false,
     "start_time": "2024-05-01T14:14:17.842705",
     "status": "completed"
    },
    "tags": []
   },
   "outputs": [
    {
     "data": {
      "text/plain": [
       "<Axes: xlabel='stroke', ylabel='count'>"
      ]
     },
     "execution_count": 99,
     "metadata": {},
     "output_type": "execute_result"
    },
    {
     "data": {
      "image/png": "[encoded data removed]",
      "text/plain": [
       "<Figure size 640x480 with 1 Axes>"
      ]
     },
     "metadata": {},
     "output_type": "display_data"
    }
   ],
   "source": [
    "sns.countplot(x = \"stroke\", hue = \"Residence_type\", data = df)"
   ]
  },
  {
   "cell_type": "markdown",
   "id": "fe270f21",
   "metadata": {
    "papermill": {
     "duration": 0.040485,
     "end_time": "2024-05-01T14:14:18.226052",
     "exception": false,
     "start_time": "2024-05-01T14:14:18.185567",
     "status": "completed"
    },
    "tags": []
   },
   "source": [
    "**people who lived in urban areas are more like to getting stroke as compared rural areas**"
   ]
  },
  {
   "cell_type": "markdown",
   "id": "7fe28597",
   "metadata": {
    "papermill": {
     "duration": 0.042313,
     "end_time": "2024-05-01T14:14:18.310607",
     "exception": false,
     "start_time": "2024-05-01T14:14:18.268294",
     "status": "completed"
    },
    "tags": []
   },
   "source": [
    "# Comparing stroke with heart diseases"
   ]
  },
  {
   "cell_type": "code",
   "execution_count": 100,
   "id": "cd41f88f",
   "metadata": {
    "execution": {
     "iopub.execute_input": "2024-05-01T14:14:18.396621Z",
     "iopub.status.busy": "2024-05-01T14:14:18.396219Z",
     "iopub.status.idle": "2024-05-01T14:14:18.737608Z",
     "shell.execute_reply": "2024-05-01T14:14:18.736508Z"
    },
    "papermill": {
     "duration": 0.386608,
     "end_time": "2024-05-01T14:14:18.740342",
     "exception": false,
     "start_time": "2024-05-01T14:14:18.353734",
     "status": "completed"
    },
    "tags": []
   },
   "outputs": [
    {
     "data": {
      "text/plain": [
       "<Axes: xlabel='stroke', ylabel='count'>"
      ]
     },
     "execution_count": 100,
     "metadata": {},
     "output_type": "execute_result"
    },
    {
     "data": {
      "image/png": "[encoded data removed]",
      "text/plain": [
       "<Figure size 640x480 with 1 Axes>"
      ]
     },
     "metadata": {},
     "output_type": "display_data"
    }
   ],
   "source": [
    "sns.countplot(x = \"stroke\", hue = \"heart_disease\", data = df)"
   ]
  },
  {
   "cell_type": "markdown",
   "id": "51fe0adf",
   "metadata": {
    "papermill": {
     "duration": 0.042663,
     "end_time": "2024-05-01T14:14:18.826982",
     "exception": false,
     "start_time": "2024-05-01T14:14:18.784319",
     "status": "completed"
    },
    "tags": []
   },
   "source": [
    "**People with no heart diseases are suffering are suffering with stroke as compared to one who face heart problem**"
   ]
  },
  {
   "cell_type": "markdown",
   "id": "74801a8f",
   "metadata": {
    "papermill": {
     "duration": 0.041607,
     "end_time": "2024-05-01T14:14:18.912697",
     "exception": false,
     "start_time": "2024-05-01T14:14:18.871090",
     "status": "completed"
    },
    "tags": []
   },
   "source": [
    "# Comparing stroke with married status"
   ]
  },
  {
   "cell_type": "code",
   "execution_count": 101,
   "id": "ba2cc4d2",
   "metadata": {
    "execution": {
     "iopub.execute_input": "2024-05-01T14:14:18.998920Z",
     "iopub.status.busy": "2024-05-01T14:14:18.998533Z",
     "iopub.status.idle": "2024-05-01T14:14:19.260370Z",
     "shell.execute_reply": "2024-05-01T14:14:19.259296Z"
    },
    "papermill": {
     "duration": 0.307955,
     "end_time": "2024-05-01T14:14:19.262502",
     "exception": false,
     "start_time": "2024-05-01T14:14:18.954547",
     "status": "completed"
    },
    "tags": []
   },
   "outputs": [
    {
     "data": {
      "text/plain": [
       "<Axes: xlabel='stroke', ylabel='count'>"
      ]
     },
     "execution_count": 101,
     "metadata": {},
     "output_type": "execute_result"
    },
    {
     "data": {
      "image/png": "[encoded data removed]",
      "text/plain": [
       "<Figure size 640x480 with 1 Axes>"
      ]
     },
     "metadata": {},
     "output_type": "display_data"
    }
   ],
   "source": [
    "sns.countplot(x = \"stroke\", hue = \"ever_married\", data = df)"
   ]
  },
  {
   "cell_type": "markdown",
   "id": "dac5d7db",
   "metadata": {
    "papermill": {
     "duration": 0.043857,
     "end_time": "2024-05-01T14:14:19.350681",
     "exception": false,
     "start_time": "2024-05-01T14:14:19.306824",
     "status": "completed"
    },
    "tags": []
   },
   "source": [
    "**Married people are more likely to get stroke as compared to un-married people**"
   ]
  },
  {
   "cell_type": "code",
   "execution_count": 102,
   "id": "1dec65c2",
   "metadata": {
    "execution": {
     "iopub.execute_input": "2024-05-01T14:14:19.437858Z",
     "iopub.status.busy": "2024-05-01T14:14:19.437486Z",
     "iopub.status.idle": "2024-05-01T14:14:19.451823Z",
     "shell.execute_reply": "2024-05-01T14:14:19.450795Z"
    },
    "papermill": {
     "duration": 0.060546,
     "end_time": "2024-05-01T14:14:19.453873",
     "exception": false,
     "start_time": "2024-05-01T14:14:19.393327",
     "status": "completed"
    },
    "tags": []
   },
   "outputs": [
    {
     "name": "stdout",
     "output_type": "stream",
     "text": [
      "<class 'pandas.core.frame.DataFrame'>\n",
      "RangeIndex: 5110 entries, 0 to 5109\n",
      "Data columns (total 11 columns):\n",
      " #   Column             Non-Null Count  Dtype  \n",
      "---  ------             --------------  -----  \n",
      " 0   gender             5110 non-null   object \n",
      " 1   age                5110 non-null   float64\n",
      " 2   hypertension       5110 non-null   int64  \n",
      " 3   heart_disease      5110 non-null   int64  \n",
      " 4   ever_married       5110 non-null   object \n",
      " 5   work_type          5110 non-null   object \n",
      " 6   Residence_type     5110 non-null   object \n",
      " 7   avg_glucose_level  5110 non-null   float64\n",
      " 8   bmi                5110 non-null   float64\n",
      " 9   smoking_status     5110 non-null   object \n",
      " 10  stroke             5110 non-null   int64  \n",
      "dtypes: float64(3), int64(3), object(5)\n",
      "memory usage: 439.3+ KB\n"
     ]
    }
   ],
   "source": [
    "df.info()"
   ]
  },
  {
   "cell_type": "markdown",
   "id": "6e4307df",
   "metadata": {
    "papermill": {
     "duration": 0.042381,
     "end_time": "2024-05-01T14:14:19.538929",
     "exception": false,
     "start_time": "2024-05-01T14:14:19.496548",
     "status": "completed"
    },
    "tags": []
   },
   "source": [
    "# creating dummy variable numeric binary attributes"
   ]
  },
  {
   "cell_type": "code",
   "execution_count": 103,
   "id": "6f56b88d",
   "metadata": {
    "execution": {
     "iopub.execute_input": "2024-05-01T14:14:19.631662Z",
     "iopub.status.busy": "2024-05-01T14:14:19.630846Z",
     "iopub.status.idle": "2024-05-01T14:14:19.652848Z",
     "shell.execute_reply": "2024-05-01T14:14:19.652030Z"
    },
    "papermill": {
     "duration": 0.072144,
     "end_time": "2024-05-01T14:14:19.654793",
     "exception": false,
     "start_time": "2024-05-01T14:14:19.582649",
     "status": "completed"
    },
    "tags": []
   },
   "outputs": [],
   "source": [
    "# converting numerical binary values to string\n",
    "\n",
    "df[[\"hypertension\", \"heart_disease\", \"stroke\"]].astype(str)\n",
    "\n",
    "# generate the dummy attributes\n",
    "\n",
    "df = pd.get_dummies(df, drop_first = True)"
   ]
  },
  {
   "cell_type": "code",
   "execution_count": 104,
   "id": "270f93d0",
   "metadata": {
    "execution": {
     "iopub.execute_input": "2024-05-01T14:14:19.743777Z",
     "iopub.status.busy": "2024-05-01T14:14:19.743075Z",
     "iopub.status.idle": "2024-05-01T14:14:21.010284Z",
     "shell.execute_reply": "2024-05-01T14:14:21.009594Z"
    },
    "papermill": {
     "duration": 1.317356,
     "end_time": "2024-05-01T14:14:21.016412",
     "exception": false,
     "start_time": "2024-05-01T14:14:19.699056",
     "status": "completed"
    },
    "tags": []
   },
   "outputs": [
    {
     "data": {
      "text/plain": [
       "<Axes: >"
      ]
     },
     "execution_count": 104,
     "metadata": {},
     "output_type": "execute_result"
    },
    {
     "data": {
      "image/png": "[encoded data removed]",
      "text/plain": [
       "<Figure size 900x800 with 2 Axes>"
      ]
     },
     "metadata": {},
     "output_type": "display_data"
    }
   ],
   "source": [
    "# correlation matrix\n",
    "\n",
    "corrmat = df.corr()\n",
    "f,ax = plt.subplots(figsize = (9,8))\n",
    "sns.heatmap(corrmat, ax = ax ,cmap = \"YlGnBu\", linewidths = 0.8, annot = True)"
   ]
  },
  {
   "cell_type": "code",
   "execution_count": 105,
   "id": "930682bc",
   "metadata": {
    "execution": {
     "iopub.execute_input": "2024-05-01T14:14:21.109747Z",
     "iopub.status.busy": "2024-05-01T14:14:21.108920Z",
     "iopub.status.idle": "2024-05-01T14:14:21.128347Z",
     "shell.execute_reply": "2024-05-01T14:14:21.127292Z"
    },
    "papermill": {
     "duration": 0.069235,
     "end_time": "2024-05-01T14:14:21.130480",
     "exception": false,
     "start_time": "2024-05-01T14:14:21.061245",
     "status": "completed"
    },
    "tags": []
   },
   "outputs": [
    {
     "data": {
      "text/html": [
       "<div>\n",
       "<style scoped>\n",
       "    .dataframe tbody tr th:only-of-type {\n",
       "        vertical-align: middle;\n",
       "    }\n",
       "\n",
       "    .dataframe tbody tr th {\n",
       "        vertical-align: top;\n",
       "    }\n",
       "\n",
       "    .dataframe thead th {\n",
       "        text-align: right;\n",
       "    }\n",
       "</style>\n",
       "<table border=\"1\" class=\"dataframe\">\n",
       "  <thead>\n",
       "    <tr style=\"text-align: right;\">\n",
       "      <th></th>\n",
       "      <th>age</th>\n",
       "      <th>hypertension</th>\n",
       "      <th>heart_disease</th>\n",
       "      <th>avg_glucose_level</th>\n",
       "      <th>bmi</th>\n",
       "      <th>stroke</th>\n",
       "      <th>gender_Male</th>\n",
       "      <th>ever_married_Yes</th>\n",
       "      <th>work_type_Never_worked</th>\n",
       "      <th>work_type_Private</th>\n",
       "      <th>work_type_Self-employed</th>\n",
       "      <th>work_type_children</th>\n",
       "      <th>Residence_type_Urban</th>\n",
       "      <th>smoking_status_formerly smoked</th>\n",
       "      <th>smoking_status_never smoked</th>\n",
       "      <th>smoking_status_smokes</th>\n",
       "    </tr>\n",
       "  </thead>\n",
       "  <tbody>\n",
       "    <tr>\n",
       "      <th>0</th>\n",
       "      <td>67.0</td>\n",
       "      <td>0</td>\n",
       "      <td>1</td>\n",
       "      <td>228.69</td>\n",
       "      <td>36.6</td>\n",
       "      <td>1</td>\n",
       "      <td>True</td>\n",
       "      <td>True</td>\n",
       "      <td>False</td>\n",
       "      <td>True</td>\n",
       "      <td>False</td>\n",
       "      <td>False</td>\n",
       "      <td>True</td>\n",
       "      <td>True</td>\n",
       "      <td>False</td>\n",
       "      <td>False</td>\n",
       "    </tr>\n",
       "    <tr>\n",
       "      <th>1</th>\n",
       "      <td>61.0</td>\n",
       "      <td>0</td>\n",
       "      <td>0</td>\n",
       "      <td>202.21</td>\n",
       "      <td>28.1</td>\n",
       "      <td>1</td>\n",
       "      <td>False</td>\n",
       "      <td>True</td>\n",
       "      <td>False</td>\n",
       "      <td>False</td>\n",
       "      <td>True</td>\n",
       "      <td>False</td>\n",
       "      <td>False</td>\n",
       "      <td>False</td>\n",
       "      <td>True</td>\n",
       "      <td>False</td>\n",
       "    </tr>\n",
       "    <tr>\n",
       "      <th>2</th>\n",
       "      <td>80.0</td>\n",
       "      <td>0</td>\n",
       "      <td>1</td>\n",
       "      <td>105.92</td>\n",
       "      <td>32.5</td>\n",
       "      <td>1</td>\n",
       "      <td>True</td>\n",
       "      <td>True</td>\n",
       "      <td>False</td>\n",
       "      <td>True</td>\n",
       "      <td>False</td>\n",
       "      <td>False</td>\n",
       "      <td>False</td>\n",
       "      <td>False</td>\n",
       "      <td>True</td>\n",
       "      <td>False</td>\n",
       "    </tr>\n",
       "    <tr>\n",
       "      <th>3</th>\n",
       "      <td>49.0</td>\n",
       "      <td>0</td>\n",
       "      <td>0</td>\n",
       "      <td>171.23</td>\n",
       "      <td>34.4</td>\n",
       "      <td>1</td>\n",
       "      <td>False</td>\n",
       "      <td>True</td>\n",
       "      <td>False</td>\n",
       "      <td>True</td>\n",
       "      <td>False</td>\n",
       "      <td>False</td>\n",
       "      <td>True</td>\n",
       "      <td>False</td>\n",
       "      <td>False</td>\n",
       "      <td>True</td>\n",
       "    </tr>\n",
       "    <tr>\n",
       "      <th>4</th>\n",
       "      <td>79.0</td>\n",
       "      <td>1</td>\n",
       "      <td>0</td>\n",
       "      <td>174.12</td>\n",
       "      <td>24.0</td>\n",
       "      <td>1</td>\n",
       "      <td>False</td>\n",
       "      <td>True</td>\n",
       "      <td>False</td>\n",
       "      <td>False</td>\n",
       "      <td>True</td>\n",
       "      <td>False</td>\n",
       "      <td>False</td>\n",
       "      <td>False</td>\n",
       "      <td>True</td>\n",
       "      <td>False</td>\n",
       "    </tr>\n",
       "  </tbody>\n",
       "</table>\n",
       "</div>"
      ],
      "text/plain": [
       "    age  hypertension  heart_disease  avg_glucose_level   bmi  stroke  \\\n",
       "0  67.0             0              1             228.69  36.6       1   \n",
       "1  61.0             0              0             202.21  28.1       1   \n",
       "2  80.0             0              1             105.92  32.5       1   \n",
       "3  49.0             0              0             171.23  34.4       1   \n",
       "4  79.0             1              0             174.12  24.0       1   \n",
       "\n",
       "   gender_Male  ever_married_Yes  work_type_Never_worked  work_type_Private  \\\n",
       "0         True              True                   False               True   \n",
       "1        False              True                   False              False   \n",
       "2         True              True                   False               True   \n",
       "3        False              True                   False               True   \n",
       "4        False              True                   False              False   \n",
       "\n",
       "   work_type_Self-employed  work_type_children  Residence_type_Urban  \\\n",
       "0                    False               False                  True   \n",
       "1                     True               False                 False   \n",
       "2                    False               False                 False   \n",
       "3                    False               False                  True   \n",
       "4                     True               False                 False   \n",
       "\n",
       "   smoking_status_formerly smoked  smoking_status_never smoked  \\\n",
       "0                            True                        False   \n",
       "1                           False                         True   \n",
       "2                           False                         True   \n",
       "3                           False                        False   \n",
       "4                           False                         True   \n",
       "\n",
       "   smoking_status_smokes  \n",
       "0                  False  \n",
       "1                  False  \n",
       "2                  False  \n",
       "3                   True  \n",
       "4                  False  "
      ]
     },
     "execution_count": 105,
     "metadata": {},
     "output_type": "execute_result"
    }
   ],
   "source": [
    "# the dataframe after performing dummy attributes\n",
    "df.head()"
   ]
  },
  {
   "cell_type": "code",
   "execution_count": 107,
   "id": "71c6e89b",
   "metadata": {},
   "outputs": [
    {
     "name": "stdout",
     "output_type": "stream",
     "text": [
      "Collecting imblearnNote: you may need to restart the kernel to use updated packages.\n",
      "\n",
      "  Downloading imblearn-0.0-py2.py3-none-any.whl.metadata (355 bytes)\n",
      "Collecting imbalanced-learn (from imblearn)\n",
      "  Downloading imbalanced_learn-0.12.2-py3-none-any.whl.metadata (8.2 kB)\n",
      "Requirement already satisfied: numpy>=1.17.3 in c:\\users\\prati\\appdata\\local\\programs\\python\\python311\\lib\\site-packages (from imbalanced-learn->imblearn) (1.24.3)\n",
      "Requirement already satisfied: scipy>=1.5.0 in c:\\users\\prati\\appdata\\local\\programs\\python\\python311\\lib\\site-packages (from imbalanced-learn->imblearn) (1.11.1)\n",
      "Requirement already satisfied: scikit-learn>=1.0.2 in c:\\users\\prati\\appdata\\local\\programs\\python\\python311\\lib\\site-packages (from imbalanced-learn->imblearn) (1.3.0)\n",
      "Requirement already satisfied: joblib>=1.1.1 in c:\\users\\prati\\appdata\\local\\programs\\python\\python311\\lib\\site-packages (from imbalanced-learn->imblearn) (1.2.0)\n",
      "Requirement already satisfied: threadpoolctl>=2.0.0 in c:\\users\\prati\\appdata\\local\\programs\\python\\python311\\lib\\site-packages (from imbalanced-learn->imblearn) (3.1.0)\n",
      "Downloading imblearn-0.0-py2.py3-none-any.whl (1.9 kB)\n",
      "Downloading imbalanced_learn-0.12.2-py3-none-any.whl (257 kB)\n",
      "   ---------------------------------------- 0.0/258.0 kB ? eta -:--:--\n",
      "   ---------------------------------------  256.0/258.0 kB 7.7 MB/s eta 0:00:01\n",
      "   ---------------------------------------- 258.0/258.0 kB 3.9 MB/s eta 0:00:00\n",
      "Installing collected packages: imbalanced-learn, imblearn\n",
      "Successfully installed imbalanced-learn-0.12.2 imblearn-0.0\n"
     ]
    }
   ],
   "source": [
    "pip install imblearn"
   ]
  },
  {
   "cell_type": "code",
   "execution_count": 108,
   "id": "f7f1b1d7",
   "metadata": {
    "execution": {
     "iopub.execute_input": "2024-05-01T14:14:21.223769Z",
     "iopub.status.busy": "2024-05-01T14:14:21.223412Z",
     "iopub.status.idle": "2024-05-01T14:14:21.770366Z",
     "shell.execute_reply": "2024-05-01T14:14:21.769491Z"
    },
    "papermill": {
     "duration": 0.596172,
     "end_time": "2024-05-01T14:14:21.772875",
     "exception": false,
     "start_time": "2024-05-01T14:14:21.176703",
     "status": "completed"
    },
    "tags": []
   },
   "outputs": [],
   "source": [
    "# use random over-sampling\n",
    "from imblearn.over_sampling import RandomOverSampler"
   ]
  },
  {
   "cell_type": "code",
   "execution_count": 110,
   "id": "f0744bf0",
   "metadata": {
    "execution": {
     "iopub.execute_input": "2024-05-01T14:14:21.868079Z",
     "iopub.status.busy": "2024-05-01T14:14:21.867556Z",
     "iopub.status.idle": "2024-05-01T14:14:21.873806Z",
     "shell.execute_reply": "2024-05-01T14:14:21.872907Z"
    },
    "papermill": {
     "duration": 0.056292,
     "end_time": "2024-05-01T14:14:21.875945",
     "exception": false,
     "start_time": "2024-05-01T14:14:21.819653",
     "status": "completed"
    },
    "tags": []
   },
   "outputs": [],
   "source": [
    "oversample = RandomOverSampler(sampling_strategy = \"minority\")\n",
    "\n",
    "x = df.drop(['stroke'], axis = 1)"
   ]
  },
  {
   "cell_type": "code",
   "execution_count": 111,
   "id": "4f513eba",
   "metadata": {
    "execution": {
     "iopub.execute_input": "2024-05-01T14:14:21.972032Z",
     "iopub.status.busy": "2024-05-01T14:14:21.971652Z",
     "iopub.status.idle": "2024-05-01T14:14:21.996520Z",
     "shell.execute_reply": "2024-05-01T14:14:21.995575Z"
    },
    "papermill": {
     "duration": 0.076399,
     "end_time": "2024-05-01T14:14:21.998677",
     "exception": false,
     "start_time": "2024-05-01T14:14:21.922278",
     "status": "completed"
    },
    "tags": []
   },
   "outputs": [
    {
     "data": {
      "text/html": [
       "<div>\n",
       "<style scoped>\n",
       "    .dataframe tbody tr th:only-of-type {\n",
       "        vertical-align: middle;\n",
       "    }\n",
       "\n",
       "    .dataframe tbody tr th {\n",
       "        vertical-align: top;\n",
       "    }\n",
       "\n",
       "    .dataframe thead th {\n",
       "        text-align: right;\n",
       "    }\n",
       "</style>\n",
       "<table border=\"1\" class=\"dataframe\">\n",
       "  <thead>\n",
       "    <tr style=\"text-align: right;\">\n",
       "      <th></th>\n",
       "      <th>age</th>\n",
       "      <th>hypertension</th>\n",
       "      <th>heart_disease</th>\n",
       "      <th>avg_glucose_level</th>\n",
       "      <th>bmi</th>\n",
       "      <th>gender_Male</th>\n",
       "      <th>ever_married_Yes</th>\n",
       "      <th>work_type_Never_worked</th>\n",
       "      <th>work_type_Private</th>\n",
       "      <th>work_type_Self-employed</th>\n",
       "      <th>work_type_children</th>\n",
       "      <th>Residence_type_Urban</th>\n",
       "      <th>smoking_status_formerly smoked</th>\n",
       "      <th>smoking_status_never smoked</th>\n",
       "      <th>smoking_status_smokes</th>\n",
       "    </tr>\n",
       "  </thead>\n",
       "  <tbody>\n",
       "    <tr>\n",
       "      <th>0</th>\n",
       "      <td>67.0</td>\n",
       "      <td>0</td>\n",
       "      <td>1</td>\n",
       "      <td>228.69</td>\n",
       "      <td>36.6</td>\n",
       "      <td>True</td>\n",
       "      <td>True</td>\n",
       "      <td>False</td>\n",
       "      <td>True</td>\n",
       "      <td>False</td>\n",
       "      <td>False</td>\n",
       "      <td>True</td>\n",
       "      <td>True</td>\n",
       "      <td>False</td>\n",
       "      <td>False</td>\n",
       "    </tr>\n",
       "    <tr>\n",
       "      <th>1</th>\n",
       "      <td>61.0</td>\n",
       "      <td>0</td>\n",
       "      <td>0</td>\n",
       "      <td>202.21</td>\n",
       "      <td>28.1</td>\n",
       "      <td>False</td>\n",
       "      <td>True</td>\n",
       "      <td>False</td>\n",
       "      <td>False</td>\n",
       "      <td>True</td>\n",
       "      <td>False</td>\n",
       "      <td>False</td>\n",
       "      <td>False</td>\n",
       "      <td>True</td>\n",
       "      <td>False</td>\n",
       "    </tr>\n",
       "    <tr>\n",
       "      <th>2</th>\n",
       "      <td>80.0</td>\n",
       "      <td>0</td>\n",
       "      <td>1</td>\n",
       "      <td>105.92</td>\n",
       "      <td>32.5</td>\n",
       "      <td>True</td>\n",
       "      <td>True</td>\n",
       "      <td>False</td>\n",
       "      <td>True</td>\n",
       "      <td>False</td>\n",
       "      <td>False</td>\n",
       "      <td>False</td>\n",
       "      <td>False</td>\n",
       "      <td>True</td>\n",
       "      <td>False</td>\n",
       "    </tr>\n",
       "    <tr>\n",
       "      <th>3</th>\n",
       "      <td>49.0</td>\n",
       "      <td>0</td>\n",
       "      <td>0</td>\n",
       "      <td>171.23</td>\n",
       "      <td>34.4</td>\n",
       "      <td>False</td>\n",
       "      <td>True</td>\n",
       "      <td>False</td>\n",
       "      <td>True</td>\n",
       "      <td>False</td>\n",
       "      <td>False</td>\n",
       "      <td>True</td>\n",
       "      <td>False</td>\n",
       "      <td>False</td>\n",
       "      <td>True</td>\n",
       "    </tr>\n",
       "    <tr>\n",
       "      <th>4</th>\n",
       "      <td>79.0</td>\n",
       "      <td>1</td>\n",
       "      <td>0</td>\n",
       "      <td>174.12</td>\n",
       "      <td>24.0</td>\n",
       "      <td>False</td>\n",
       "      <td>True</td>\n",
       "      <td>False</td>\n",
       "      <td>False</td>\n",
       "      <td>True</td>\n",
       "      <td>False</td>\n",
       "      <td>False</td>\n",
       "      <td>False</td>\n",
       "      <td>True</td>\n",
       "      <td>False</td>\n",
       "    </tr>\n",
       "    <tr>\n",
       "      <th>...</th>\n",
       "      <td>...</td>\n",
       "      <td>...</td>\n",
       "      <td>...</td>\n",
       "      <td>...</td>\n",
       "      <td>...</td>\n",
       "      <td>...</td>\n",
       "      <td>...</td>\n",
       "      <td>...</td>\n",
       "      <td>...</td>\n",
       "      <td>...</td>\n",
       "      <td>...</td>\n",
       "      <td>...</td>\n",
       "      <td>...</td>\n",
       "      <td>...</td>\n",
       "      <td>...</td>\n",
       "    </tr>\n",
       "    <tr>\n",
       "      <th>5105</th>\n",
       "      <td>80.0</td>\n",
       "      <td>1</td>\n",
       "      <td>0</td>\n",
       "      <td>83.75</td>\n",
       "      <td>28.1</td>\n",
       "      <td>False</td>\n",
       "      <td>True</td>\n",
       "      <td>False</td>\n",
       "      <td>True</td>\n",
       "      <td>False</td>\n",
       "      <td>False</td>\n",
       "      <td>True</td>\n",
       "      <td>False</td>\n",
       "      <td>True</td>\n",
       "      <td>False</td>\n",
       "    </tr>\n",
       "    <tr>\n",
       "      <th>5106</th>\n",
       "      <td>81.0</td>\n",
       "      <td>0</td>\n",
       "      <td>0</td>\n",
       "      <td>125.20</td>\n",
       "      <td>40.0</td>\n",
       "      <td>False</td>\n",
       "      <td>True</td>\n",
       "      <td>False</td>\n",
       "      <td>False</td>\n",
       "      <td>True</td>\n",
       "      <td>False</td>\n",
       "      <td>True</td>\n",
       "      <td>False</td>\n",
       "      <td>True</td>\n",
       "      <td>False</td>\n",
       "    </tr>\n",
       "    <tr>\n",
       "      <th>5107</th>\n",
       "      <td>35.0</td>\n",
       "      <td>0</td>\n",
       "      <td>0</td>\n",
       "      <td>82.99</td>\n",
       "      <td>30.6</td>\n",
       "      <td>False</td>\n",
       "      <td>True</td>\n",
       "      <td>False</td>\n",
       "      <td>False</td>\n",
       "      <td>True</td>\n",
       "      <td>False</td>\n",
       "      <td>False</td>\n",
       "      <td>False</td>\n",
       "      <td>True</td>\n",
       "      <td>False</td>\n",
       "    </tr>\n",
       "    <tr>\n",
       "      <th>5108</th>\n",
       "      <td>51.0</td>\n",
       "      <td>0</td>\n",
       "      <td>0</td>\n",
       "      <td>166.29</td>\n",
       "      <td>25.6</td>\n",
       "      <td>True</td>\n",
       "      <td>True</td>\n",
       "      <td>False</td>\n",
       "      <td>True</td>\n",
       "      <td>False</td>\n",
       "      <td>False</td>\n",
       "      <td>False</td>\n",
       "      <td>True</td>\n",
       "      <td>False</td>\n",
       "      <td>False</td>\n",
       "    </tr>\n",
       "    <tr>\n",
       "      <th>5109</th>\n",
       "      <td>44.0</td>\n",
       "      <td>0</td>\n",
       "      <td>0</td>\n",
       "      <td>85.28</td>\n",
       "      <td>26.2</td>\n",
       "      <td>False</td>\n",
       "      <td>True</td>\n",
       "      <td>False</td>\n",
       "      <td>False</td>\n",
       "      <td>False</td>\n",
       "      <td>False</td>\n",
       "      <td>True</td>\n",
       "      <td>False</td>\n",
       "      <td>False</td>\n",
       "      <td>False</td>\n",
       "    </tr>\n",
       "  </tbody>\n",
       "</table>\n",
       "<p>5110 rows × 15 columns</p>\n",
       "</div>"
      ],
      "text/plain": [
       "       age  hypertension  heart_disease  avg_glucose_level   bmi  gender_Male  \\\n",
       "0     67.0             0              1             228.69  36.6         True   \n",
       "1     61.0             0              0             202.21  28.1        False   \n",
       "2     80.0             0              1             105.92  32.5         True   \n",
       "3     49.0             0              0             171.23  34.4        False   \n",
       "4     79.0             1              0             174.12  24.0        False   \n",
       "...    ...           ...            ...                ...   ...          ...   \n",
       "5105  80.0             1              0              83.75  28.1        False   \n",
       "5106  81.0             0              0             125.20  40.0        False   \n",
       "5107  35.0             0              0              82.99  30.6        False   \n",
       "5108  51.0             0              0             166.29  25.6         True   \n",
       "5109  44.0             0              0              85.28  26.2        False   \n",
       "\n",
       "      ever_married_Yes  work_type_Never_worked  work_type_Private  \\\n",
       "0                 True                   False               True   \n",
       "1                 True                   False              False   \n",
       "2                 True                   False               True   \n",
       "3                 True                   False               True   \n",
       "4                 True                   False              False   \n",
       "...                ...                     ...                ...   \n",
       "5105              True                   False               True   \n",
       "5106              True                   False              False   \n",
       "5107              True                   False              False   \n",
       "5108              True                   False               True   \n",
       "5109              True                   False              False   \n",
       "\n",
       "      work_type_Self-employed  work_type_children  Residence_type_Urban  \\\n",
       "0                       False               False                  True   \n",
       "1                        True               False                 False   \n",
       "2                       False               False                 False   \n",
       "3                       False               False                  True   \n",
       "4                        True               False                 False   \n",
       "...                       ...                 ...                   ...   \n",
       "5105                    False               False                  True   \n",
       "5106                     True               False                  True   \n",
       "5107                     True               False                 False   \n",
       "5108                    False               False                 False   \n",
       "5109                    False               False                  True   \n",
       "\n",
       "      smoking_status_formerly smoked  smoking_status_never smoked  \\\n",
       "0                               True                        False   \n",
       "1                              False                         True   \n",
       "2                              False                         True   \n",
       "3                              False                        False   \n",
       "4                              False                         True   \n",
       "...                              ...                          ...   \n",
       "5105                           False                         True   \n",
       "5106                           False                         True   \n",
       "5107                           False                         True   \n",
       "5108                            True                        False   \n",
       "5109                           False                        False   \n",
       "\n",
       "      smoking_status_smokes  \n",
       "0                     False  \n",
       "1                     False  \n",
       "2                     False  \n",
       "3                      True  \n",
       "4                     False  \n",
       "...                     ...  \n",
       "5105                  False  \n",
       "5106                  False  \n",
       "5107                  False  \n",
       "5108                  False  \n",
       "5109                  False  \n",
       "\n",
       "[5110 rows x 15 columns]"
      ]
     },
     "execution_count": 111,
     "metadata": {},
     "output_type": "execute_result"
    }
   ],
   "source": [
    "x"
   ]
  },
  {
   "cell_type": "code",
   "execution_count": 112,
   "id": "1402eb48",
   "metadata": {
    "execution": {
     "iopub.execute_input": "2024-05-01T14:14:22.096075Z",
     "iopub.status.busy": "2024-05-01T14:14:22.095710Z",
     "iopub.status.idle": "2024-05-01T14:14:22.099905Z",
     "shell.execute_reply": "2024-05-01T14:14:22.099185Z"
    },
    "papermill": {
     "duration": 0.054444,
     "end_time": "2024-05-01T14:14:22.101698",
     "exception": false,
     "start_time": "2024-05-01T14:14:22.047254",
     "status": "completed"
    },
    "tags": []
   },
   "outputs": [],
   "source": [
    "y = df[\"stroke\"]\n"
   ]
  },
  {
   "cell_type": "code",
   "execution_count": 113,
   "id": "cd15052a",
   "metadata": {
    "execution": {
     "iopub.execute_input": "2024-05-01T14:14:22.198120Z",
     "iopub.status.busy": "2024-05-01T14:14:22.197783Z",
     "iopub.status.idle": "2024-05-01T14:14:22.204994Z",
     "shell.execute_reply": "2024-05-01T14:14:22.204061Z"
    },
    "papermill": {
     "duration": 0.057632,
     "end_time": "2024-05-01T14:14:22.207151",
     "exception": false,
     "start_time": "2024-05-01T14:14:22.149519",
     "status": "completed"
    },
    "tags": []
   },
   "outputs": [
    {
     "data": {
      "text/plain": [
       "0       1\n",
       "1       1\n",
       "2       1\n",
       "3       1\n",
       "4       1\n",
       "       ..\n",
       "5105    0\n",
       "5106    0\n",
       "5107    0\n",
       "5108    0\n",
       "5109    0\n",
       "Name: stroke, Length: 5110, dtype: int64"
      ]
     },
     "execution_count": 113,
     "metadata": {},
     "output_type": "execute_result"
    }
   ],
   "source": [
    "y"
   ]
  },
  {
   "cell_type": "code",
   "execution_count": 114,
   "id": "6d4452a9",
   "metadata": {
    "execution": {
     "iopub.execute_input": "2024-05-01T14:14:22.304184Z",
     "iopub.status.busy": "2024-05-01T14:14:22.303805Z",
     "iopub.status.idle": "2024-05-01T14:14:22.338159Z",
     "shell.execute_reply": "2024-05-01T14:14:22.337388Z"
    },
    "papermill": {
     "duration": 0.084466,
     "end_time": "2024-05-01T14:14:22.340232",
     "exception": false,
     "start_time": "2024-05-01T14:14:22.255766",
     "status": "completed"
    },
    "tags": []
   },
   "outputs": [],
   "source": [
    "x_over, y_over = oversample.fit_resample(x,y)\n",
    "\n",
    "from sklearn.preprocessing import StandardScaler\n",
    "\n",
    "scaler = StandardScaler()\n",
    "\n",
    "df[[\"bmi\", \"avg_glucose_level\", \"age\"]] = scaler.fit_transform(df[[\"bmi\",\n",
    "                                    \"avg_glucose_level\", \"age\"]])"
   ]
  },
  {
   "cell_type": "code",
   "execution_count": 115,
   "id": "11270135",
   "metadata": {
    "execution": {
     "iopub.execute_input": "2024-05-01T14:14:22.437546Z",
     "iopub.status.busy": "2024-05-01T14:14:22.437204Z",
     "iopub.status.idle": "2024-05-01T14:14:22.445526Z",
     "shell.execute_reply": "2024-05-01T14:14:22.444495Z"
    },
    "papermill": {
     "duration": 0.059541,
     "end_time": "2024-05-01T14:14:22.447694",
     "exception": false,
     "start_time": "2024-05-01T14:14:22.388153",
     "status": "completed"
    },
    "tags": []
   },
   "outputs": [],
   "source": [
    "# create a train test split\n",
    "from sklearn.model_selection import train_test_split\n",
    "x_train , x_test, y_train, y_test = train_test_split(x_over,y_over, test_size = 0.2, random_state = 42)"
   ]
  },
  {
   "cell_type": "code",
   "execution_count": 116,
   "id": "45cf7130",
   "metadata": {
    "execution": {
     "iopub.execute_input": "2024-05-01T14:14:22.546463Z",
     "iopub.status.busy": "2024-05-01T14:14:22.546073Z",
     "iopub.status.idle": "2024-05-01T14:14:22.552577Z",
     "shell.execute_reply": "2024-05-01T14:14:22.551604Z"
    },
    "papermill": {
     "duration": 0.057256,
     "end_time": "2024-05-01T14:14:22.554914",
     "exception": false,
     "start_time": "2024-05-01T14:14:22.497658",
     "status": "completed"
    },
    "tags": []
   },
   "outputs": [
    {
     "name": "stdout",
     "output_type": "stream",
     "text": [
      "x_train :  (7777, 15)\n",
      "y_train :  (7777,)\n",
      "x_test :  (1945, 15)\n",
      "y_test :  (1945,)\n"
     ]
    }
   ],
   "source": [
    "# checking the shape of split\n",
    "\n",
    "print(\"x_train : \", x_train.shape)\n",
    "print(\"y_train : \", y_train.shape)\n",
    "print(\"x_test : \", x_test.shape)\n",
    "print(\"y_test : \", y_test.shape)"
   ]
  },
  {
   "cell_type": "markdown",
   "id": "0237b1d3",
   "metadata": {
    "papermill": {
     "duration": 0.04865,
     "end_time": "2024-05-01T14:14:22.650159",
     "exception": false,
     "start_time": "2024-05-01T14:14:22.601509",
     "status": "completed"
    },
    "tags": []
   },
   "source": [
    "# 1. Decision Tree Model*"
   ]
  },
  {
   "cell_type": "code",
   "execution_count": 117,
   "id": "c5caebc3",
   "metadata": {
    "execution": {
     "iopub.execute_input": "2024-05-01T14:14:22.751016Z",
     "iopub.status.busy": "2024-05-01T14:14:22.749786Z",
     "iopub.status.idle": "2024-05-01T14:14:22.755099Z",
     "shell.execute_reply": "2024-05-01T14:14:22.754351Z"
    },
    "papermill": {
     "duration": 0.05743,
     "end_time": "2024-05-01T14:14:22.757217",
     "exception": false,
     "start_time": "2024-05-01T14:14:22.699787",
     "status": "completed"
    },
    "tags": []
   },
   "outputs": [],
   "source": [
    "from sklearn.tree import DecisionTreeClassifier\n",
    "from sklearn import metrics\n",
    "from sklearn.metrics import auc, roc_auc_score, roc_curve, precision_score, recall_score, f1_score"
   ]
  },
  {
   "cell_type": "code",
   "execution_count": 118,
   "id": "3d0fb9e6",
   "metadata": {
    "execution": {
     "iopub.execute_input": "2024-05-01T14:14:22.854208Z",
     "iopub.status.busy": "2024-05-01T14:14:22.853888Z",
     "iopub.status.idle": "2024-05-01T14:14:22.893949Z",
     "shell.execute_reply": "2024-05-01T14:14:22.893013Z"
    },
    "papermill": {
     "duration": 0.090939,
     "end_time": "2024-05-01T14:14:22.896198",
     "exception": false,
     "start_time": "2024-05-01T14:14:22.805259",
     "status": "completed"
    },
    "tags": []
   },
   "outputs": [
    {
     "name": "stdout",
     "output_type": "stream",
     "text": [
      "Accuracy :  97.53213367609254\n",
      "ROC AUC Score :  0.9753846153846154\n"
     ]
    }
   ],
   "source": [
    "clf = DecisionTreeClassifier()\n",
    "clf = clf.fit(x_train, y_train)\n",
    "y_pred = clf.predict(x_test)\n",
    "print(\"Accuracy : \", metrics.accuracy_score(y_test, y_pred) * 100)\n",
    "print(\"ROC AUC Score : \", roc_auc_score(y_test, y_pred))"
   ]
  },
  {
   "cell_type": "markdown",
   "id": "7dea5b08",
   "metadata": {
    "papermill": {
     "duration": 0.048996,
     "end_time": "2024-05-01T14:14:22.992259",
     "exception": false,
     "start_time": "2024-05-01T14:14:22.943263",
     "status": "completed"
    },
    "tags": []
   },
   "source": [
    "# 2. KNN Model"
   ]
  },
  {
   "cell_type": "code",
   "execution_count": 119,
   "id": "9a3f559b",
   "metadata": {
    "execution": {
     "iopub.execute_input": "2024-05-01T14:14:23.089669Z",
     "iopub.status.busy": "2024-05-01T14:14:23.089308Z",
     "iopub.status.idle": "2024-05-01T14:14:23.250687Z",
     "shell.execute_reply": "2024-05-01T14:14:23.249385Z"
    },
    "papermill": {
     "duration": 0.212655,
     "end_time": "2024-05-01T14:14:23.253256",
     "exception": false,
     "start_time": "2024-05-01T14:14:23.040601",
     "status": "completed"
    },
    "tags": []
   },
   "outputs": [
    {
     "name": "stdout",
     "output_type": "stream",
     "text": [
      "Accuracy score :  97.53213367609254\n",
      "ROC AUC Score :  97.53846153846155\n"
     ]
    }
   ],
   "source": [
    "from sklearn.neighbors import KNeighborsClassifier\n",
    "from sklearn.metrics import accuracy_score\n",
    "knn = KNeighborsClassifier(n_neighbors = 2)\n",
    "knn.fit(x_train, y_train)\n",
    "y_pred_knn = knn.predict(x_test)\n",
    "y_pred_prob_knn = knn.predict_proba(x_test)[:, 1]\n",
    "print(\"Accuracy score : \", accuracy_score(y_test, y_pred) * 100)\n",
    "print(\"ROC AUC Score : \", roc_auc_score(y_test, y_pred) * 100)"
   ]
  },
  {
   "cell_type": "markdown",
   "id": "462e9d8b",
   "metadata": {
    "papermill": {
     "duration": 0.047569,
     "end_time": "2024-05-01T14:14:23.348426",
     "exception": false,
     "start_time": "2024-05-01T14:14:23.300857",
     "status": "completed"
    },
    "tags": []
   },
   "source": [
    "# 3- XGBoost Model"
   ]
  },
  {
   "cell_type": "code",
   "execution_count": 121,
   "id": "f067e636",
   "metadata": {},
   "outputs": [
    {
     "name": "stdout",
     "output_type": "stream",
     "text": [
      "Collecting xgboostNote: you may need to restart the kernel to use updated packages.\n",
      "\n",
      "  Downloading xgboost-2.0.3-py3-none-win_amd64.whl.metadata (2.0 kB)\n",
      "Requirement already satisfied: numpy in c:\\users\\prati\\appdata\\local\\programs\\python\\python311\\lib\\site-packages (from xgboost) (1.24.3)\n",
      "Requirement already satisfied: scipy in c:\\users\\prati\\appdata\\local\\programs\\python\\python311\\lib\\site-packages (from xgboost) (1.11.1)\n",
      "Downloading xgboost-2.0.3-py3-none-win_amd64.whl (99.8 MB)\n",
      "   ---------------------------------------- 0.0/99.8 MB ? eta -:--:--\n",
      "   ---------------------------------------- 0.2/99.8 MB 5.3 MB/s eta 0:00:19\n",
      "   ---------------------------------------- 0.6/99.8 MB 7.0 MB/s eta 0:00:15\n",
      "   ---------------------------------------- 0.8/99.8 MB 6.6 MB/s eta 0:00:16\n",
      "   ---------------------------------------- 1.1/99.8 MB 6.3 MB/s eta 0:00:16\n",
      "   ---------------------------------------- 1.2/99.8 MB 5.6 MB/s eta 0:00:18\n",
      "    --------------------------------------- 1.6/99.8 MB 5.7 MB/s eta 0:00:18\n",
      "    --------------------------------------- 2.1/99.8 MB 6.1 MB/s eta 0:00:17\n",
      "    --------------------------------------- 2.5/99.8 MB 6.6 MB/s eta 0:00:15\n",
      "   - -------------------------------------- 4.2/99.8 MB 7.9 MB/s eta 0:00:13\n",
      "   - -------------------------------------- 4.2/99.8 MB 7.9 MB/s eta 0:00:13\n",
      "   - -------------------------------------- 4.2/99.8 MB 7.9 MB/s eta 0:00:13\n",
      "   - -------------------------------------- 4.2/99.8 MB 7.9 MB/s eta 0:00:13\n",
      "   - -------------------------------------- 4.2/99.8 MB 7.9 MB/s eta 0:00:13\n",
      "   - -------------------------------------- 4.2/99.8 MB 7.9 MB/s eta 0:00:13\n",
      "   - -------------------------------------- 4.2/99.8 MB 7.9 MB/s eta 0:00:13\n",
      "   - -------------------------------------- 4.2/99.8 MB 7.9 MB/s eta 0:00:13\n",
      "   - -------------------------------------- 4.6/99.8 MB 4.9 MB/s eta 0:00:20\n",
      "   - -------------------------------------- 4.8/99.8 MB 5.0 MB/s eta 0:00:20\n",
      "   - -------------------------------------- 4.8/99.8 MB 5.0 MB/s eta 0:00:20\n",
      "   -- ------------------------------------- 5.1/99.8 MB 4.8 MB/s eta 0:00:20\n",
      "   -- ------------------------------------- 5.4/99.8 MB 4.8 MB/s eta 0:00:20\n",
      "   -- ------------------------------------- 5.8/99.8 MB 5.0 MB/s eta 0:00:19\n",
      "   -- ------------------------------------- 5.9/99.8 MB 4.9 MB/s eta 0:00:19\n",
      "   -- ------------------------------------- 6.3/99.8 MB 5.0 MB/s eta 0:00:19\n",
      "   -- ------------------------------------- 6.3/99.8 MB 5.0 MB/s eta 0:00:19\n",
      "   -- ------------------------------------- 6.3/99.8 MB 5.0 MB/s eta 0:00:19\n",
      "   -- ------------------------------------- 6.3/99.8 MB 5.0 MB/s eta 0:00:19\n",
      "   -- ------------------------------------- 6.8/99.8 MB 4.7 MB/s eta 0:00:20\n",
      "   -- ------------------------------------- 6.8/99.8 MB 4.7 MB/s eta 0:00:20\n",
      "   --- ------------------------------------ 8.2/99.8 MB 5.1 MB/s eta 0:00:19\n",
      "   --- ------------------------------------ 8.6/99.8 MB 5.2 MB/s eta 0:00:18\n",
      "   --- ------------------------------------ 9.0/99.8 MB 5.3 MB/s eta 0:00:18\n",
      "   --- ------------------------------------ 9.3/99.8 MB 5.3 MB/s eta 0:00:18\n",
      "   --- ------------------------------------ 9.9/99.8 MB 5.5 MB/s eta 0:00:17\n",
      "   ---- ----------------------------------- 10.7/99.8 MB 5.6 MB/s eta 0:00:16\n",
      "   ---- ----------------------------------- 11.4/99.8 MB 5.8 MB/s eta 0:00:16\n",
      "   ---- ----------------------------------- 12.3/99.8 MB 6.0 MB/s eta 0:00:15\n",
      "   ----- ---------------------------------- 13.1/99.8 MB 5.8 MB/s eta 0:00:15\n",
      "   ----- ---------------------------------- 14.6/99.8 MB 7.7 MB/s eta 0:00:12\n",
      "   ------ --------------------------------- 15.4/99.8 MB 8.3 MB/s eta 0:00:11\n",
      "   ------ --------------------------------- 16.1/99.8 MB 8.6 MB/s eta 0:00:10\n",
      "   ------ --------------------------------- 16.9/99.8 MB 10.1 MB/s eta 0:00:09\n",
      "   ------ --------------------------------- 17.4/99.8 MB 10.9 MB/s eta 0:00:08\n",
      "   ------- -------------------------------- 18.2/99.8 MB 10.4 MB/s eta 0:00:08\n",
      "   ------- -------------------------------- 18.8/99.8 MB 10.4 MB/s eta 0:00:08\n",
      "   ------- -------------------------------- 19.6/99.8 MB 10.6 MB/s eta 0:00:08\n",
      "   -------- ------------------------------- 20.5/99.8 MB 10.9 MB/s eta 0:00:08\n",
      "   -------- ------------------------------- 21.6/99.8 MB 11.3 MB/s eta 0:00:07\n",
      "   -------- ------------------------------- 22.1/99.8 MB 11.7 MB/s eta 0:00:07\n",
      "   --------- ------------------------------ 22.5/99.8 MB 10.9 MB/s eta 0:00:08\n",
      "   --------- ------------------------------ 24.1/99.8 MB 10.9 MB/s eta 0:00:07\n",
      "   ----------- ---------------------------- 28.6/99.8 MB 10.1 MB/s eta 0:00:08\n",
      "   ------------ --------------------------- 31.2/99.8 MB 10.6 MB/s eta 0:00:07\n",
      "   ------------ --------------------------- 31.4/99.8 MB 9.6 MB/s eta 0:00:08\n",
      "   -------------- ------------------------- 35.4/99.8 MB 12.1 MB/s eta 0:00:06\n",
      "   --------------- ------------------------ 38.1/99.8 MB 11.5 MB/s eta 0:00:06\n",
      "   --------------- ------------------------ 39.5/99.8 MB 13.9 MB/s eta 0:00:05\n",
      "   ---------------- ----------------------- 40.4/99.8 MB 13.4 MB/s eta 0:00:05\n",
      "   ---------------- ----------------------- 41.0/99.8 MB 12.6 MB/s eta 0:00:05\n",
      "   ---------------- ----------------------- 41.8/99.8 MB 15.2 MB/s eta 0:00:04\n",
      "   ----------------- ---------------------- 42.8/99.8 MB 14.2 MB/s eta 0:00:05\n",
      "   ----------------- ---------------------- 43.0/99.8 MB 14.6 MB/s eta 0:00:04\n",
      "   ----------------- ---------------------- 43.0/99.8 MB 14.6 MB/s eta 0:00:04\n",
      "   ----------------- ---------------------- 43.0/99.8 MB 14.6 MB/s eta 0:00:04\n",
      "   ----------------- ---------------------- 43.0/99.8 MB 14.6 MB/s eta 0:00:04\n",
      "   ----------------- ---------------------- 43.0/99.8 MB 14.6 MB/s eta 0:00:04\n",
      "   ----------------- ---------------------- 44.8/99.8 MB 8.5 MB/s eta 0:00:07\n",
      "   ------------------ --------------------- 46.0/99.8 MB 8.8 MB/s eta 0:00:07\n",
      "   ------------------ --------------------- 47.2/99.8 MB 8.6 MB/s eta 0:00:07\n",
      "   ------------------- -------------------- 49.2/99.8 MB 8.3 MB/s eta 0:00:07\n",
      "   ------------------- -------------------- 49.8/99.8 MB 8.1 MB/s eta 0:00:07\n",
      "   -------------------- ------------------- 52.3/99.8 MB 8.1 MB/s eta 0:00:06\n",
      "   --------------------- ------------------ 54.2/99.8 MB 12.4 MB/s eta 0:00:04\n",
      "   --------------------- ------------------ 54.2/99.8 MB 12.4 MB/s eta 0:00:04\n",
      "   ---------------------- ----------------- 55.3/99.8 MB 9.1 MB/s eta 0:00:05\n",
      "   ---------------------- ----------------- 55.3/99.8 MB 9.1 MB/s eta 0:00:05\n",
      "   ---------------------- ----------------- 55.3/99.8 MB 9.1 MB/s eta 0:00:05\n",
      "   ---------------------- ----------------- 55.4/99.8 MB 7.9 MB/s eta 0:00:06\n",
      "   ---------------------- ----------------- 56.1/99.8 MB 7.8 MB/s eta 0:00:06\n",
      "   ----------------------- ---------------- 57.5/99.8 MB 8.4 MB/s eta 0:00:06\n",
      "   ----------------------- ---------------- 57.5/99.8 MB 8.4 MB/s eta 0:00:06\n",
      "   ----------------------- ---------------- 57.5/99.8 MB 8.4 MB/s eta 0:00:06\n",
      "   ----------------------- ---------------- 57.9/99.8 MB 7.7 MB/s eta 0:00:06\n",
      "   ----------------------- ---------------- 58.8/99.8 MB 7.9 MB/s eta 0:00:06\n",
      "   ----------------------- ---------------- 58.9/99.8 MB 7.8 MB/s eta 0:00:06\n",
      "   ------------------------ --------------- 60.0/99.8 MB 7.4 MB/s eta 0:00:06\n",
      "   ------------------------ --------------- 61.0/99.8 MB 7.4 MB/s eta 0:00:06\n",
      "   ------------------------- -------------- 63.0/99.8 MB 7.6 MB/s eta 0:00:05\n",
      "   ------------------------- -------------- 64.0/99.8 MB 7.6 MB/s eta 0:00:05\n",
      "   -------------------------- ------------- 65.0/99.8 MB 9.6 MB/s eta 0:00:04\n",
      "   -------------------------- ------------- 65.7/99.8 MB 11.3 MB/s eta 0:00:04\n",
      "   -------------------------- ------------- 66.3/99.8 MB 10.2 MB/s eta 0:00:04\n",
      "   --------------------------- ------------ 68.5/99.8 MB 10.9 MB/s eta 0:00:03\n",
      "   --------------------------- ------------ 69.0/99.8 MB 9.5 MB/s eta 0:00:04\n",
      "   ---------------------------- ----------- 70.8/99.8 MB 10.7 MB/s eta 0:00:03\n",
      "   ----------------------------- ---------- 72.4/99.8 MB 11.1 MB/s eta 0:00:03\n",
      "   ----------------------------- ---------- 74.3/99.8 MB 10.4 MB/s eta 0:00:03\n",
      "   ----------------------------- ---------- 74.3/99.8 MB 10.4 MB/s eta 0:00:03\n",
      "   ------------------------------ --------- 75.6/99.8 MB 8.6 MB/s eta 0:00:03\n",
      "   ------------------------------ --------- 76.1/99.8 MB 9.2 MB/s eta 0:00:03\n",
      "   ------------------------------- -------- 78.4/99.8 MB 9.4 MB/s eta 0:00:03\n",
      "   ------------------------------- -------- 78.8/99.8 MB 9.6 MB/s eta 0:00:03\n",
      "   ------------------------------- -------- 79.7/99.8 MB 9.6 MB/s eta 0:00:03\n",
      "   -------------------------------- ------- 80.6/99.8 MB 9.2 MB/s eta 0:00:03\n",
      "   -------------------------------- ------- 81.5/99.8 MB 9.2 MB/s eta 0:00:02\n",
      "   --------------------------------- ------ 83.5/99.8 MB 9.8 MB/s eta 0:00:02\n",
      "   --------------------------------- ------ 83.6/99.8 MB 9.1 MB/s eta 0:00:02\n",
      "   ---------------------------------- ----- 85.7/99.8 MB 11.5 MB/s eta 0:00:02\n",
      "   ---------------------------------- ----- 86.2/99.8 MB 11.3 MB/s eta 0:00:02\n",
      "   ----------------------------------- ---- 88.2/99.8 MB 10.9 MB/s eta 0:00:02\n",
      "   ----------------------------------- ---- 88.2/99.8 MB 10.9 MB/s eta 0:00:02\n",
      "   ----------------------------------- ---- 89.1/99.8 MB 10.6 MB/s eta 0:00:02\n",
      "   ----------------------------------- ---- 89.8/99.8 MB 9.9 MB/s eta 0:00:02\n",
      "   ------------------------------------ --- 91.4/99.8 MB 11.1 MB/s eta 0:00:01\n",
      "   ------------------------------------- -- 92.3/99.8 MB 11.3 MB/s eta 0:00:01\n",
      "   ------------------------------------- -- 92.9/99.8 MB 10.4 MB/s eta 0:00:01\n",
      "   ------------------------------------- -- 92.9/99.8 MB 10.4 MB/s eta 0:00:01\n",
      "   ------------------------------------- -- 93.6/99.8 MB 8.8 MB/s eta 0:00:01\n",
      "   ------------------------------------- -- 94.5/99.8 MB 10.1 MB/s eta 0:00:01\n",
      "   ------------------------------------- -- 94.5/99.8 MB 10.1 MB/s eta 0:00:01\n",
      "   -------------------------------------- - 95.8/99.8 MB 9.2 MB/s eta 0:00:01\n",
      "   -------------------------------------- - 96.4/99.8 MB 9.5 MB/s eta 0:00:01\n",
      "   ---------------------------------------  97.6/99.8 MB 9.1 MB/s eta 0:00:01\n",
      "   ---------------------------------------  99.7/99.8 MB 10.4 MB/s eta 0:00:01\n",
      "   ---------------------------------------  99.7/99.8 MB 10.4 MB/s eta 0:00:01\n",
      "   ---------------------------------------  99.7/99.8 MB 10.4 MB/s eta 0:00:01\n",
      "   ---------------------------------------  99.7/99.8 MB 10.4 MB/s eta 0:00:01\n",
      "   ---------------------------------------  99.7/99.8 MB 10.4 MB/s eta 0:00:01\n",
      "   ---------------------------------------  99.7/99.8 MB 10.4 MB/s eta 0:00:01\n",
      "   ---------------------------------------  99.7/99.8 MB 10.4 MB/s eta 0:00:01\n",
      "   ---------------------------------------  99.7/99.8 MB 10.4 MB/s eta 0:00:01\n",
      "   ---------------------------------------  99.7/99.8 MB 10.4 MB/s eta 0:00:01\n",
      "   ---------------------------------------  99.7/99.8 MB 10.4 MB/s eta 0:00:01\n",
      "   ---------------------------------------  99.7/99.8 MB 10.4 MB/s eta 0:00:01\n",
      "   ---------------------------------------  99.7/99.8 MB 10.4 MB/s eta 0:00:01\n",
      "   ---------------------------------------  99.7/99.8 MB 10.4 MB/s eta 0:00:01\n",
      "   ---------------------------------------  99.7/99.8 MB 10.4 MB/s eta 0:00:01\n",
      "   ---------------------------------------  99.7/99.8 MB 10.4 MB/s eta 0:00:01\n",
      "   ---------------------------------------  99.7/99.8 MB 10.4 MB/s eta 0:00:01\n",
      "   ---------------------------------------  99.7/99.8 MB 10.4 MB/s eta 0:00:01\n",
      "   ---------------------------------------  99.7/99.8 MB 10.4 MB/s eta 0:00:01\n",
      "   ---------------------------------------  99.7/99.8 MB 10.4 MB/s eta 0:00:01\n",
      "   ---------------------------------------  99.7/99.8 MB 10.4 MB/s eta 0:00:01\n",
      "   ---------------------------------------  99.7/99.8 MB 10.4 MB/s eta 0:00:01\n",
      "   ---------------------------------------  99.7/99.8 MB 10.4 MB/s eta 0:00:01\n",
      "   ---------------------------------------  99.7/99.8 MB 10.4 MB/s eta 0:00:01\n",
      "   ---------------------------------------  99.7/99.8 MB 10.4 MB/s eta 0:00:01\n",
      "   ---------------------------------------  99.7/99.8 MB 10.4 MB/s eta 0:00:01\n",
      "   ---------------------------------------  99.7/99.8 MB 10.4 MB/s eta 0:00:01\n",
      "   ---------------------------------------  99.7/99.8 MB 10.4 MB/s eta 0:00:01\n",
      "   ---------------------------------------  99.7/99.8 MB 10.4 MB/s eta 0:00:01\n",
      "   ---------------------------------------  99.7/99.8 MB 10.4 MB/s eta 0:00:01\n",
      "   ---------------------------------------  99.7/99.8 MB 10.4 MB/s eta 0:00:01\n",
      "   ---------------------------------------  99.7/99.8 MB 10.4 MB/s eta 0:00:01\n",
      "   ---------------------------------------  99.7/99.8 MB 10.4 MB/s eta 0:00:01\n",
      "   ---------------------------------------  99.7/99.8 MB 10.4 MB/s eta 0:00:01\n",
      "   ---------------------------------------  99.7/99.8 MB 10.4 MB/s eta 0:00:01\n",
      "   ---------------------------------------  99.7/99.8 MB 10.4 MB/s eta 0:00:01\n",
      "   ---------------------------------------  99.7/99.8 MB 10.4 MB/s eta 0:00:01\n",
      "   ---------------------------------------  99.7/99.8 MB 10.4 MB/s eta 0:00:01\n",
      "   ---------------------------------------  99.7/99.8 MB 10.4 MB/s eta 0:00:01\n",
      "   ---------------------------------------  99.7/99.8 MB 10.4 MB/s eta 0:00:01\n",
      "   ---------------------------------------  99.7/99.8 MB 10.4 MB/s eta 0:00:01\n",
      "   ---------------------------------------  99.7/99.8 MB 10.4 MB/s eta 0:00:01\n",
      "   ---------------------------------------  99.7/99.8 MB 10.4 MB/s eta 0:00:01\n",
      "   ---------------------------------------  99.7/99.8 MB 10.4 MB/s eta 0:00:01\n",
      "   ---------------------------------------  99.7/99.8 MB 10.4 MB/s eta 0:00:01\n",
      "   ---------------------------------------  99.7/99.8 MB 10.4 MB/s eta 0:00:01\n",
      "   ---------------------------------------  99.7/99.8 MB 10.4 MB/s eta 0:00:01\n",
      "   ---------------------------------------  99.7/99.8 MB 10.4 MB/s eta 0:00:01\n",
      "   ---------------------------------------  99.7/99.8 MB 10.4 MB/s eta 0:00:01\n",
      "   ---------------------------------------  99.7/99.8 MB 10.4 MB/s eta 0:00:01\n",
      "   ---------------------------------------  99.7/99.8 MB 10.4 MB/s eta 0:00:01\n",
      "   ---------------------------------------  99.7/99.8 MB 10.4 MB/s eta 0:00:01\n",
      "   ---------------------------------------  99.7/99.8 MB 10.4 MB/s eta 0:00:01\n",
      "   ---------------------------------------  99.7/99.8 MB 10.4 MB/s eta 0:00:01\n",
      "   ---------------------------------------  99.7/99.8 MB 10.4 MB/s eta 0:00:01\n",
      "   ---------------------------------------  99.7/99.8 MB 10.4 MB/s eta 0:00:01\n",
      "   ---------------------------------------  99.7/99.8 MB 10.4 MB/s eta 0:00:01\n",
      "   ---------------------------------------  99.7/99.8 MB 10.4 MB/s eta 0:00:01\n",
      "   ---------------------------------------  99.7/99.8 MB 10.4 MB/s eta 0:00:01\n",
      "   ---------------------------------------  99.7/99.8 MB 10.4 MB/s eta 0:00:01\n",
      "   ---------------------------------------  99.7/99.8 MB 10.4 MB/s eta 0:00:01\n",
      "   ---------------------------------------  99.7/99.8 MB 10.4 MB/s eta 0:00:01\n",
      "   ---------------------------------------  99.7/99.8 MB 10.4 MB/s eta 0:00:01\n",
      "   ---------------------------------------  99.7/99.8 MB 10.4 MB/s eta 0:00:01\n",
      "   ---------------------------------------  99.7/99.8 MB 10.4 MB/s eta 0:00:01\n",
      "   ---------------------------------------  99.7/99.8 MB 10.4 MB/s eta 0:00:01\n",
      "   ---------------------------------------  99.7/99.8 MB 10.4 MB/s eta 0:00:01\n",
      "   ---------------------------------------  99.7/99.8 MB 10.4 MB/s eta 0:00:01\n",
      "   ---------------------------------------  99.7/99.8 MB 10.4 MB/s eta 0:00:01\n",
      "   ---------------------------------------  99.7/99.8 MB 10.4 MB/s eta 0:00:01\n",
      "   ---------------------------------------  99.7/99.8 MB 10.4 MB/s eta 0:00:01\n",
      "   ---------------------------------------  99.7/99.8 MB 10.4 MB/s eta 0:00:01\n",
      "   ---------------------------------------  99.7/99.8 MB 10.4 MB/s eta 0:00:01\n",
      "   ---------------------------------------  99.7/99.8 MB 10.4 MB/s eta 0:00:01\n",
      "   ---------------------------------------  99.7/99.8 MB 10.4 MB/s eta 0:00:01\n",
      "   ---------------------------------------  99.7/99.8 MB 10.4 MB/s eta 0:00:01\n",
      "   ---------------------------------------  99.7/99.8 MB 10.4 MB/s eta 0:00:01\n",
      "   ---------------------------------------  99.7/99.8 MB 10.4 MB/s eta 0:00:01\n",
      "   ---------------------------------------  99.7/99.8 MB 10.4 MB/s eta 0:00:01\n",
      "   ---------------------------------------  99.7/99.8 MB 10.4 MB/s eta 0:00:01\n",
      "   ---------------------------------------  99.7/99.8 MB 10.4 MB/s eta 0:00:01\n",
      "   ---------------------------------------  99.7/99.8 MB 10.4 MB/s eta 0:00:01\n",
      "   ---------------------------------------  99.7/99.8 MB 10.4 MB/s eta 0:00:01\n",
      "   ---------------------------------------  99.7/99.8 MB 10.4 MB/s eta 0:00:01\n",
      "   ---------------------------------------  99.7/99.8 MB 10.4 MB/s eta 0:00:01\n",
      "   ---------------------------------------  99.7/99.8 MB 10.4 MB/s eta 0:00:01\n",
      "   ---------------------------------------  99.7/99.8 MB 10.4 MB/s eta 0:00:01\n",
      "   ---------------------------------------  99.7/99.8 MB 10.4 MB/s eta 0:00:01\n",
      "   ---------------------------------------  99.7/99.8 MB 10.4 MB/s eta 0:00:01\n",
      "   ---------------------------------------  99.7/99.8 MB 10.4 MB/s eta 0:00:01\n",
      "   ---------------------------------------  99.7/99.8 MB 10.4 MB/s eta 0:00:01\n",
      "   ---------------------------------------  99.7/99.8 MB 10.4 MB/s eta 0:00:01\n",
      "   ---------------------------------------  99.7/99.8 MB 10.4 MB/s eta 0:00:01\n",
      "   ---------------------------------------  99.7/99.8 MB 10.4 MB/s eta 0:00:01\n",
      "   ---------------------------------------  99.7/99.8 MB 10.4 MB/s eta 0:00:01\n",
      "   ---------------------------------------  99.7/99.8 MB 10.4 MB/s eta 0:00:01\n",
      "   ---------------------------------------  99.7/99.8 MB 10.4 MB/s eta 0:00:01\n",
      "   ---------------------------------------  99.7/99.8 MB 10.4 MB/s eta 0:00:01\n",
      "   ---------------------------------------  99.7/99.8 MB 10.4 MB/s eta 0:00:01\n",
      "   ---------------------------------------  99.7/99.8 MB 10.4 MB/s eta 0:00:01\n",
      "   ---------------------------------------  99.7/99.8 MB 10.4 MB/s eta 0:00:01\n",
      "   ---------------------------------------  99.7/99.8 MB 10.4 MB/s eta 0:00:01\n",
      "   ---------------------------------------  99.7/99.8 MB 10.4 MB/s eta 0:00:01\n",
      "   ---------------------------------------  99.7/99.8 MB 10.4 MB/s eta 0:00:01\n",
      "   ---------------------------------------  99.7/99.8 MB 10.4 MB/s eta 0:00:01\n",
      "   ---------------------------------------  99.7/99.8 MB 10.4 MB/s eta 0:00:01\n",
      "   ---------------------------------------  99.7/99.8 MB 10.4 MB/s eta 0:00:01\n",
      "   ---------------------------------------  99.7/99.8 MB 10.4 MB/s eta 0:00:01\n",
      "   ---------------------------------------  99.7/99.8 MB 10.4 MB/s eta 0:00:01\n",
      "   ---------------------------------------  99.7/99.8 MB 10.4 MB/s eta 0:00:01\n",
      "   ---------------------------------------  99.7/99.8 MB 10.4 MB/s eta 0:00:01\n",
      "   ---------------------------------------  99.7/99.8 MB 10.4 MB/s eta 0:00:01\n",
      "   ---------------------------------------  99.7/99.8 MB 10.4 MB/s eta 0:00:01\n",
      "   ---------------------------------------  99.7/99.8 MB 10.4 MB/s eta 0:00:01\n",
      "   ---------------------------------------  99.7/99.8 MB 10.4 MB/s eta 0:00:01\n",
      "   ---------------------------------------  99.7/99.8 MB 10.4 MB/s eta 0:00:01\n",
      "   ---------------------------------------  99.7/99.8 MB 10.4 MB/s eta 0:00:01\n",
      "   ---------------------------------------  99.7/99.8 MB 10.4 MB/s eta 0:00:01\n",
      "   ---------------------------------------  99.7/99.8 MB 10.4 MB/s eta 0:00:01\n",
      "   ---------------------------------------  99.7/99.8 MB 10.4 MB/s eta 0:00:01\n",
      "   ---------------------------------------  99.7/99.8 MB 10.4 MB/s eta 0:00:01\n",
      "   ---------------------------------------  99.7/99.8 MB 10.4 MB/s eta 0:00:01\n",
      "   ---------------------------------------  99.7/99.8 MB 10.4 MB/s eta 0:00:01\n",
      "   ---------------------------------------  99.7/99.8 MB 10.4 MB/s eta 0:00:01\n",
      "   ---------------------------------------  99.7/99.8 MB 10.4 MB/s eta 0:00:01\n",
      "   ---------------------------------------  99.7/99.8 MB 10.4 MB/s eta 0:00:01\n",
      "   ---------------------------------------- 99.8/99.8 MB 925.3 kB/s eta 0:00:00\n",
      "Installing collected packages: xgboost\n",
      "Successfully installed xgboost-2.0.3\n"
     ]
    }
   ],
   "source": [
    "pip install xgboost"
   ]
  },
  {
   "cell_type": "code",
   "execution_count": 122,
   "id": "c5fa43e0",
   "metadata": {
    "execution": {
     "iopub.execute_input": "2024-05-01T14:14:23.447230Z",
     "iopub.status.busy": "2024-05-01T14:14:23.446853Z",
     "iopub.status.idle": "2024-05-01T14:14:23.825114Z",
     "shell.execute_reply": "2024-05-01T14:14:23.824272Z"
    },
    "papermill": {
     "duration": 0.430446,
     "end_time": "2024-05-01T14:14:23.827632",
     "exception": false,
     "start_time": "2024-05-01T14:14:23.397186",
     "status": "completed"
    },
    "tags": []
   },
   "outputs": [
    {
     "name": "stdout",
     "output_type": "stream",
     "text": [
      "Accuarcy score :  0.9753213367609255\n",
      "ROC AUC Score :  0.9753846153846154\n"
     ]
    }
   ],
   "source": [
    "from xgboost import XGBClassifier\n",
    "\n",
    "xgb = XGBClassifier()\n",
    "xgb.fit(x_train, y_train)\n",
    "\n",
    "y_pred_xgb = xgb.predict(x_test)\n",
    "y_pred_prob_xgb = xgb.predict_proba(x_test)[:, 1]\n",
    "\n",
    "print(\"Accuarcy score : \", accuracy_score(y_test, y_pred))\n",
    "print(\"ROC AUC Score : \", roc_auc_score(y_test, y_pred))"
   ]
  },
  {
   "cell_type": "markdown",
   "id": "8dd29e2b",
   "metadata": {
    "papermill": {
     "duration": 0.049587,
     "end_time": "2024-05-01T14:14:23.928839",
     "exception": false,
     "start_time": "2024-05-01T14:14:23.879252",
     "status": "completed"
    },
    "tags": []
   },
   "source": [
    "# 4- Plot ROC AUC"
   ]
  },
  {
   "cell_type": "code",
   "execution_count": 123,
   "id": "d9edd2f4",
   "metadata": {
    "execution": {
     "iopub.execute_input": "2024-05-01T14:14:24.029449Z",
     "iopub.status.busy": "2024-05-01T14:14:24.028479Z",
     "iopub.status.idle": "2024-05-01T14:14:24.287907Z",
     "shell.execute_reply": "2024-05-01T14:14:24.286874Z"
    },
    "papermill": {
     "duration": 0.313153,
     "end_time": "2024-05-01T14:14:24.290362",
     "exception": false,
     "start_time": "2024-05-01T14:14:23.977209",
     "status": "completed"
    },
    "tags": []
   },
   "outputs": [
    {
     "data": {
      "image/png": "[encoded data removed]",
      "text/plain": [
       "<Figure size 600x400 with 1 Axes>"
      ]
     },
     "metadata": {},
     "output_type": "display_data"
    }
   ],
   "source": [
    "fpr, tpr, thresholds = roc_curve(y_test, y_pred_prob_xgb)\n",
    "plt.figure(figsize = (6,4))\n",
    "plt.plot(fpr, tpr, linewidth = 2, color = \"teal\")\n",
    "plt.plot([0,1], [0,1], \"r--\")\n",
    "plt.title(\"ROC Curve of XGBoost\")\n",
    "plt.xlabel(\"False Positive Rate\")\n",
    "plt.ylabel(\"True Positive rate\")\n",
    "plt.show()"
   ]
  },
  {
   "cell_type": "markdown",
   "id": "664dceaf",
   "metadata": {
    "papermill": {
     "duration": 0.048873,
     "end_time": "2024-05-01T14:14:24.387803",
     "exception": false,
     "start_time": "2024-05-01T14:14:24.338930",
     "status": "completed"
    },
    "tags": []
   },
   "source": [
    "# Confusion Matrix\n"
   ]
  },
  {
   "cell_type": "code",
   "execution_count": 124,
   "id": "bdbcd46f",
   "metadata": {
    "execution": {
     "iopub.execute_input": "2024-05-01T14:14:24.486595Z",
     "iopub.status.busy": "2024-05-01T14:14:24.485916Z",
     "iopub.status.idle": "2024-05-01T14:14:24.660698Z",
     "shell.execute_reply": "2024-05-01T14:14:24.659771Z"
    },
    "papermill": {
     "duration": 0.226824,
     "end_time": "2024-05-01T14:14:24.662795",
     "exception": false,
     "start_time": "2024-05-01T14:14:24.435971",
     "status": "completed"
    },
    "tags": []
   },
   "outputs": [
    {
     "data": {
      "image/png": "[encoded data removed]",
      "text/plain": [
       "<Figure size 640x480 with 1 Axes>"
      ]
     },
     "metadata": {},
     "output_type": "display_data"
    }
   ],
   "source": [
    "from sklearn.metrics import confusion_matrix\n",
    "cm = confusion_matrix(y_test, y_pred_xgb)\n",
    "sns.heatmap(cm, annot = True, cmap = \"Blues\", cbar = False)\n",
    "plt.xlabel(\"Predicted\")\n",
    "plt.ylabel(\"Actual\")\n",
    "plt.title(\"Confusion Matrix\")\n",
    "plt.show()"
   ]
  },
  {
   "cell_type": "code",
   "execution_count": 125,
   "id": "6a80a82f",
   "metadata": {
    "execution": {
     "iopub.execute_input": "2024-05-01T14:14:24.762325Z",
     "iopub.status.busy": "2024-05-01T14:14:24.761969Z",
     "iopub.status.idle": "2024-05-01T14:14:24.777663Z",
     "shell.execute_reply": "2024-05-01T14:14:24.776516Z"
    },
    "papermill": {
     "duration": 0.067678,
     "end_time": "2024-05-01T14:14:24.779808",
     "exception": false,
     "start_time": "2024-05-01T14:14:24.712130",
     "status": "completed"
    },
    "tags": []
   },
   "outputs": [
    {
     "name": "stdout",
     "output_type": "stream",
     "text": [
      "Accuracy Score :  0.9763496143958869\n",
      "precision score :  0.9547244094488189\n",
      "recall score :  1.0\n",
      "f1 score :  0.9768378650553876\n"
     ]
    }
   ],
   "source": [
    "from sklearn.metrics import accuracy_score, precision_score, recall_score, f1_score\n",
    "print(\"Accuracy Score : \", accuracy_score(y_test, y_pred_xgb))\n",
    "print(\"precision score : \", precision_score(y_test, y_pred_xgb))\n",
    "print(\"recall score : \", recall_score(y_test, y_pred_xgb))\n",
    "print(\"f1 score : \", f1_score(y_test, y_pred_xgb))"
   ]
  },
  {
   "cell_type": "markdown",
   "id": "5992b85c",
   "metadata": {
    "papermill": {
     "duration": 0.049481,
     "end_time": "2024-05-01T14:14:24.878382",
     "exception": false,
     "start_time": "2024-05-01T14:14:24.828901",
     "status": "completed"
    },
    "tags": []
   },
   "source": [
    "# 5- Random Forest Classifier Model"
   ]
  },
  {
   "cell_type": "code",
   "execution_count": 126,
   "id": "eb4198b7",
   "metadata": {
    "execution": {
     "iopub.execute_input": "2024-05-01T14:14:24.976550Z",
     "iopub.status.busy": "2024-05-01T14:14:24.975899Z",
     "iopub.status.idle": "2024-05-01T14:14:25.709363Z",
     "shell.execute_reply": "2024-05-01T14:14:25.708334Z"
    },
    "papermill": {
     "duration": 0.786539,
     "end_time": "2024-05-01T14:14:25.711887",
     "exception": false,
     "start_time": "2024-05-01T14:14:24.925348",
     "status": "completed"
    },
    "tags": []
   },
   "outputs": [
    {
     "name": "stdout",
     "output_type": "stream",
     "text": [
      "Accuracy Score :  99.22879177377892\n"
     ]
    }
   ],
   "source": [
    "from sklearn.ensemble import RandomForestClassifier\n",
    "from sklearn.model_selection import RandomizedSearchCV\n",
    "\n",
    "rf_clf = RandomForestClassifier(n_estimators = 100)\n",
    "rf_clf.fit(x_train, y_train)\n",
    "y_pred_rf = rf_clf.predict(x_test)\n",
    "print(\"Accuracy Score : \", accuracy_score(y_test, y_pred_rf) * 100)"
   ]
  },
  {
   "cell_type": "markdown",
   "id": "a5679507",
   "metadata": {
    "papermill": {
     "duration": 0.050478,
     "end_time": "2024-05-01T14:14:25.813530",
     "exception": false,
     "start_time": "2024-05-01T14:14:25.763052",
     "status": "completed"
    },
    "tags": []
   },
   "source": [
    "# 6- KFold Validation"
   ]
  },
  {
   "cell_type": "code",
   "execution_count": 127,
   "id": "5d66b755",
   "metadata": {
    "execution": {
     "iopub.execute_input": "2024-05-01T14:14:25.919953Z",
     "iopub.status.busy": "2024-05-01T14:14:25.919595Z",
     "iopub.status.idle": "2024-05-01T14:14:41.847160Z",
     "shell.execute_reply": "2024-05-01T14:14:41.846165Z"
    },
    "papermill": {
     "duration": 15.983887,
     "end_time": "2024-05-01T14:14:41.849644",
     "exception": false,
     "start_time": "2024-05-01T14:14:25.865757",
     "status": "completed"
    },
    "tags": []
   },
   "outputs": [
    {
     "name": "stdout",
     "output_type": "stream",
     "text": [
      "Accuracy :  99.33152922486711\n"
     ]
    }
   ],
   "source": [
    "from sklearn import model_selection\n",
    "\n",
    "from sklearn.model_selection import KFold\n",
    "\n",
    "kfold = model_selection.KFold(n_splits = 20, shuffle = True)\n",
    "results_kfold = model_selection.cross_val_score(rf_clf, x_over, y_over, cv = kfold)\n",
    "\n",
    "print(\"Accuracy : \", results_kfold.mean() * 100)"
   ]
  },
  {
   "cell_type": "markdown",
   "id": "d6aaf132",
   "metadata": {
    "papermill": {
     "duration": 0.052155,
     "end_time": "2024-05-01T14:14:41.954627",
     "exception": false,
     "start_time": "2024-05-01T14:14:41.902472",
     "status": "completed"
    },
    "tags": []
   },
   "source": [
    "# 7- Logistic Regression Model"
   ]
  },
  {
   "cell_type": "code",
   "execution_count": 128,
   "id": "857d2a33",
   "metadata": {
    "execution": {
     "iopub.execute_input": "2024-05-01T14:14:42.058778Z",
     "iopub.status.busy": "2024-05-01T14:14:42.057788Z",
     "iopub.status.idle": "2024-05-01T14:14:42.615213Z",
     "shell.execute_reply": "2024-05-01T14:14:42.613919Z"
    },
    "papermill": {
     "duration": 0.612973,
     "end_time": "2024-05-01T14:14:42.618820",
     "exception": false,
     "start_time": "2024-05-01T14:14:42.005847",
     "status": "completed"
    },
    "tags": []
   },
   "outputs": [
    {
     "name": "stdout",
     "output_type": "stream",
     "text": [
      "Accuracy score :  76.1439588688946\n"
     ]
    }
   ],
   "source": [
    "from sklearn.linear_model import LogisticRegression\n",
    "classifier = LogisticRegression(random_state = 0, max_iter = 1000)\n",
    "\n",
    "classifier.fit(x_train ,y_train)\n",
    "y_pred_lr = classifier.predict(x_test)\n",
    "print(\"Accuracy score : \", accuracy_score(y_test, y_pred_lr)*100)"
   ]
  },
  {
   "cell_type": "code",
   "execution_count": null,
   "id": "c447df2b",
   "metadata": {
    "papermill": {
     "duration": 0.049774,
     "end_time": "2024-05-01T14:14:42.779165",
     "exception": false,
     "start_time": "2024-05-01T14:14:42.729391",
     "status": "completed"
    },
    "tags": []
   },
   "outputs": [],
   "source": []
  },
  {
   "cell_type": "markdown",
   "id": "41dbbe8d",
   "metadata": {
    "papermill": {
     "duration": 0.049949,
     "end_time": "2024-05-01T14:14:42.880293",
     "exception": false,
     "start_time": "2024-05-01T14:14:42.830344",
     "status": "completed"
    },
    "tags": []
   },
   "source": [
    "# 8- Prediction of Model"
   ]
  },
  {
   "cell_type": "code",
   "execution_count": 130,
   "id": "f16158fd",
   "metadata": {
    "execution": {
     "iopub.execute_input": "2024-05-01T14:14:42.985203Z",
     "iopub.status.busy": "2024-05-01T14:14:42.984810Z",
     "iopub.status.idle": "2024-05-01T14:14:43.004340Z",
     "shell.execute_reply": "2024-05-01T14:14:43.003263Z"
    },
    "papermill": {
     "duration": 0.07474,
     "end_time": "2024-05-01T14:14:43.006749",
     "exception": false,
     "start_time": "2024-05-01T14:14:42.932009",
     "status": "completed"
    },
    "tags": []
   },
   "outputs": [
    {
     "name": "stdout",
     "output_type": "stream",
     "text": [
      "The person can get a stroke\n"
     ]
    }
   ],
   "source": [
    "age = 75\n",
    "avg_glucose_level = 300\n",
    "bmi = 36.6\n",
    "gender_male = 1\n",
    "ever_married_Yes = 1\n",
    "work_type_Never_worked = 0\n",
    "work_type_Private = 1\n",
    "work_type_Self_employed = 0\n",
    "work_type_children = 0\n",
    "Residence_type_Urban = 1\n",
    "smoking_status_formerly_smoked = 1\n",
    "smoking_status_never_smoked = 0\n",
    "smoking_status_smokes = 0\n",
    "hypertension = 0\n",
    "heart_disease = 1\n",
    "\n",
    "\n",
    "input_feature = ['age', 'hypertension', 'heart_disease', 'avg_glucose_level', 'bmi',\n",
    "        'gender_Male', 'ever_married_Yes', 'work_type_Never_worked',\n",
    "       'work_type_Private', 'work_type_Self-employed', 'work_type_children',\n",
    "       'Residence_type_Urban', 'smoking_status_formerly smoked',\n",
    "       'smoking_status_never smoked', 'smoking_status_smokes']\n",
    "\n",
    "feature_values = {\n",
    "    'age': age,\n",
    "    'hypertension': hypertension,\n",
    "    'heart_disease': heart_disease,\n",
    "    'avg_glucose_level': avg_glucose_level,\n",
    "    'bmi': bmi,\n",
    "    'gender_Male': gender_male,\n",
    "    'ever_married_Yes': ever_married_Yes,\n",
    "    'work_type_Never_worked': work_type_Never_worked,\n",
    "    'work_type_Private': work_type_Private,\n",
    "    'work_type_Self-employed': work_type_Self_employed,\n",
    "    'work_type_children': work_type_children,\n",
    "    'Residence_type_Urban': Residence_type_Urban,\n",
    "    'smoking_status_formerly smoked': smoking_status_formerly_smoked,\n",
    "    'smoking_status_never smoked': smoking_status_never_smoked,\n",
    "    'smoking_status_smokes': smoking_status_smokes\n",
    "}\n",
    "\n",
    "df = pd.DataFrame(feature_values, index=[0])\n",
    "\n",
    "prediction = rf_clf.predict(df)\n",
    "\n",
    "# Check the prediction\n",
    "if prediction[0] == 0:\n",
    "    print('The person will not get a stroke')\n",
    "else:\n",
    "    print('The person can get a stroke')"
   ]
  },
  {
   "cell_type": "code",
   "execution_count": 131,
   "id": "63dc6ce9",
   "metadata": {},
   "outputs": [],
   "source": [
    "import pickle"
   ]
  },
  {
   "cell_type": "code",
   "execution_count": 132,
   "id": "8061be5b",
   "metadata": {},
   "outputs": [],
   "source": [
    "filename = 'stroke_model.sav'\n",
    "pickle.dump(rf_clf, open(filename, 'wb'))"
   ]
  },
  {
   "cell_type": "code",
   "execution_count": 133,
   "id": "24b8419f",
   "metadata": {},
   "outputs": [],
   "source": [
    "loaded_model = pickle.load(open('stroke_model.sav', 'rb'))"
   ]
  },
  {
   "cell_type": "code",
   "execution_count": 134,
   "id": "19fee160",
   "metadata": {},
   "outputs": [
    {
     "name": "stdout",
     "output_type": "stream",
     "text": [
      "age\n",
      "hypertension\n",
      "heart_disease\n",
      "avg_glucose_level\n",
      "bmi\n",
      "gender_Male\n",
      "ever_married_Yes\n",
      "work_type_Never_worked\n",
      "work_type_Private\n",
      "work_type_Self-employed\n",
      "work_type_children\n",
      "Residence_type_Urban\n",
      "smoking_status_formerly smoked\n",
      "smoking_status_never smoked\n",
      "smoking_status_smokes\n"
     ]
    }
   ],
   "source": [
    "for column in df.columns:\n",
    "  print(column)"
   ]
  },
  {
   "cell_type": "code",
   "execution_count": null,
   "id": "742b8271",
   "metadata": {
    "papermill": {
     "duration": 0.05055,
     "end_time": "2024-05-01T14:14:43.205364",
     "exception": false,
     "start_time": "2024-05-01T14:14:43.154814",
     "status": "completed"
    },
    "tags": []
   },
   "outputs": [],
   "source": []
  }
 ],
 "metadata": {
  "kaggle": {
   "accelerator": "none",
   "dataSources": [
    {
     "datasetId": 1120859,
     "sourceId": 1882037,
     "sourceType": "datasetVersion"
    }
   ],
   "dockerImageVersionId": 30698,
   "isGpuEnabled": false,
   "isInternetEnabled": true,
   "language": "python",
   "sourceType": "notebook"
  },
  "kernelspec": {
   "display_name": "Python 3",
   "language": "python",
   "name": "python3"
  },
  "language_info": {
   "codemirror_mode": {
    "name": "ipython",
    "version": 3
   },
   "file_extension": ".py",
   "mimetype": "text/x-python",
   "name": "python",
   "nbconvert_exporter": "python",
   "pygments_lexer": "ipython3",
   "version": "3.11.4"
  },
  "papermill": {
   "default_parameters": {},
   "duration": 41.0411,
   "end_time": "2024-05-01T14:14:43.877506",
   "environment_variables": {},
   "exception": null,
   "input_path": "__notebook__.ipynb",
   "output_path": "__notebook__.ipynb",
   "parameters": {},
   "start_time": "2024-05-01T14:14:02.836406",
   "version": "2.5.0"
  }
 },
 "nbformat": 4,
 "nbformat_minor": 5
}
